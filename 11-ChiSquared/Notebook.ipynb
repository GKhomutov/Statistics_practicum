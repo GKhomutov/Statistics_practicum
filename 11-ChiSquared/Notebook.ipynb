{
 "cells": [
  {
   "cell_type": "markdown",
   "id": "770d0042-30c1-4f87-8d6f-78fb637bf4c9",
   "metadata": {},
   "source": [
    "# Тема 11. Критерии хи-квадрат и отношения правдоподобий для дискретных данных"
   ]
  },
  {
   "cell_type": "code",
   "execution_count": 1,
   "id": "f59767e7-cc64-4d56-b4ad-869935e591be",
   "metadata": {
    "editable": true,
    "slideshow": {
     "slide_type": ""
    },
    "tags": []
   },
   "outputs": [],
   "source": [
    "import numpy as np\n",
    "import pandas as pd\n",
    "import math as mt\n",
    "import scipy.stats as st\n",
    "import scipy.optimize as opt\n",
    "import seaborn as sns\n",
    "import matplotlib.pyplot as plt\n",
    "import statsmodels.api as sm\n",
    "from collections import namedtuple\n",
    "from tqdm import tqdm"
   ]
  },
  {
   "cell_type": "markdown",
   "id": "8c7a2efe-84b6-40eb-bef5-0e88acae3d50",
   "metadata": {},
   "source": [
    "### 1 Задание"
   ]
  },
  {
   "cell_type": "code",
   "execution_count": 7,
   "id": "ad36e086-3ab1-499d-ab0b-784482281a0a",
   "metadata": {},
   "outputs": [
    {
     "name": "stdout",
     "output_type": "stream",
     "text": [
      "0.8828093219851211\n",
      "[7 9 8 2]\n"
     ]
    }
   ],
   "source": [
    "with open(\"pi_places.txt\") as f:\n",
    "    places = np.fromiter(map(int, f.read()), np.int32)\n",
    "\n",
    "cnt = np.bincount(places)\n",
    "res = st.chisquare(cnt)\n",
    "print(res.pvalue)\n",
    "print(places[98:102])"
   ]
  },
  {
   "cell_type": "markdown",
   "id": "b8c7b1ac-3bc5-4629-9479-ddbe76965e33",
   "metadata": {},
   "source": [
    "### 2 Задание"
   ]
  },
  {
   "cell_type": "code",
   "execution_count": 3,
   "id": "18726d00-66df-495f-a029-fe7560109bbc",
   "metadata": {},
   "outputs": [
    {
     "data": {
      "text/html": [
       "<div>\n",
       "<style scoped>\n",
       "    .dataframe tbody tr th:only-of-type {\n",
       "        vertical-align: middle;\n",
       "    }\n",
       "\n",
       "    .dataframe tbody tr th {\n",
       "        vertical-align: top;\n",
       "    }\n",
       "\n",
       "    .dataframe thead th {\n",
       "        text-align: right;\n",
       "    }\n",
       "</style>\n",
       "<table border=\"1\" class=\"dataframe\">\n",
       "  <thead>\n",
       "    <tr style=\"text-align: right;\">\n",
       "      <th></th>\n",
       "      <th>Пол</th>\n",
       "      <th>Сумма.баллов</th>\n",
       "      <th>ЕГЭ...матем.</th>\n",
       "      <th>ЕГЭ...рус.яз.</th>\n",
       "      <th>Аттестат.с.отличием.оценка</th>\n",
       "      <th>ГТО.оценка</th>\n",
       "      <th>Сочинение.оценка</th>\n",
       "      <th>Регион</th>\n",
       "      <th>Тип.насел..пункта</th>\n",
       "      <th>Дата.рождения</th>\n",
       "      <th>День.рождения</th>\n",
       "      <th>Месяц.рождения</th>\n",
       "    </tr>\n",
       "  </thead>\n",
       "  <tbody>\n",
       "    <tr>\n",
       "      <th>0</th>\n",
       "      <td>МУЖСКОЙ</td>\n",
       "      <td>388</td>\n",
       "      <td>90</td>\n",
       "      <td>98</td>\n",
       "      <td>5</td>\n",
       "      <td>0</td>\n",
       "      <td>1</td>\n",
       "      <td>Красноярский край</td>\n",
       "      <td>ГОРОД</td>\n",
       "      <td>24.09.1998</td>\n",
       "      <td>24</td>\n",
       "      <td>9</td>\n",
       "    </tr>\n",
       "  </tbody>\n",
       "</table>\n",
       "</div>"
      ],
      "text/plain": [
       "       Пол  Сумма.баллов  ЕГЭ...матем.  ЕГЭ...рус.яз.  \\\n",
       "0  МУЖСКОЙ           388            90             98   \n",
       "\n",
       "   Аттестат.с.отличием.оценка  ГТО.оценка  Сочинение.оценка  \\\n",
       "0                           5           0                 1   \n",
       "\n",
       "              Регион Тип.насел..пункта Дата.рождения  День.рождения  \\\n",
       "0  Красноярский край             ГОРОД    24.09.1998             24   \n",
       "\n",
       "   Месяц.рождения  \n",
       "0               9  "
      ]
     },
     "execution_count": 3,
     "metadata": {},
     "output_type": "execute_result"
    }
   ],
   "source": [
    "df = pd.read_csv('../02-DataFrame/Priem.csv', encoding='utf-8')\n",
    "score_columns = ['Сумма.баллов', 'ЕГЭ...матем.', 'ЕГЭ...рус.яз.']\n",
    "df = df.dropna()\n",
    "df = df.astype({c: 'int32' for c in score_columns})\n",
    "df.head(1)"
   ]
  },
  {
   "cell_type": "code",
   "execution_count": 83,
   "id": "c91e72a1-3664-4301-ae0e-c628599945a7",
   "metadata": {},
   "outputs": [
    {
     "name": "stdout",
     "output_type": "stream",
     "text": [
      "Фактор: Пол\n",
      "\tСумма.баллов: p-value = 0.9168068194349944\n",
      "\tЕГЭ...матем.: p-value = 0.8369195545064003\n",
      "\tЕГЭ...рус.яз.: p-value = 2.6821410507638917e-14\n",
      "Фактор: Аттестат.с.отличием.оценка\n",
      "\tСумма.баллов: p-value = 1.9472625623204327e-05\n",
      "\tЕГЭ...матем.: p-value = 0.07112030142533038\n",
      "\tЕГЭ...рус.яз.: p-value = 1.351409730993612e-27\n",
      "Фактор: ГТО.оценка\n",
      "\tСумма.баллов: p-value = 0.4264780960735666\n",
      "\tЕГЭ...матем.: p-value = 0.30923679553476124\n",
      "\tЕГЭ...рус.яз.: p-value = 0.581885241600965\n"
     ]
    }
   ],
   "source": [
    "factor_columns = ['Пол', 'Аттестат.с.отличием.оценка', 'ГТО.оценка']\n",
    "data = df[[*score_columns, *factor_columns]].copy()\n",
    "score_group_columns = [sc + \".group\" for sc in score_columns]\n",
    "for sc, sgc in zip(score_columns, score_group_columns):\n",
    "    k = 5\n",
    "    min_score = data[sc].min()\n",
    "    data[sgc] = (data[sc] - min_score) // k\n",
    "\n",
    "for factor in factor_columns:\n",
    "    print(f\"Фактор: {factor}\")\n",
    "    for sc, sgc in zip(score_columns, score_group_columns):\n",
    "        obs = pd.crosstab(data[factor], data[sgc])\n",
    "        res = st.chi2_contingency(obs)\n",
    "        print(f\"\\t{sc}: p-value = {res.pvalue}\")"
   ]
  },
  {
   "cell_type": "code",
   "execution_count": 84,
   "id": "c59e0096-e948-4381-8ac2-61012223bfdf",
   "metadata": {},
   "outputs": [
    {
     "name": "stdout",
     "output_type": "stream",
     "text": [
      "p-value = 3.8297255158463534e-10\n"
     ]
    }
   ],
   "source": [
    "obs = pd.crosstab(data['ЕГЭ...матем..group'], data['ЕГЭ...рус.яз..group'])\n",
    "res = st.chi2_contingency(obs)\n",
    "print(f\"p-value = {res.pvalue}\")"
   ]
  },
  {
   "cell_type": "markdown",
   "id": "5565ac21-a492-4dc6-9121-ed6e55082ed2",
   "metadata": {},
   "source": [
    "### 3 Задание"
   ]
  },
  {
   "cell_type": "markdown",
   "id": "5fb6f174-fae9-4760-b8a8-b8b6bf706b74",
   "metadata": {},
   "source": [
    "Cressie-Read power divergence statistic:\n",
    "\n",
    "$$ \\frac{2}{\\lambda(\\lambda+1)} \\sum_{i=1}^{k}\\nu_i \\left( \\left( \\frac{\\nu_i}{np_i}\\right) ^\\lambda - 1 \\right) $$\n",
    "\n",
    "$$ \\lambda = 0: \\qquad 2\\sum_{i=1}^{k}\\nu_i \\ln{\\frac{\\nu_i}{np_i}} $$\n",
    "\n",
    "$$ \\lambda = -1: \\qquad 2\\sum_{i=1}^{k}np_i \\ln{\\frac{np_i}{\\nu_i}} $$"
   ]
  },
  {
   "cell_type": "code",
   "execution_count": 4,
   "id": "e8d2403f-c9ad-40fa-9e6f-fac4986c0384",
   "metadata": {},
   "outputs": [
    {
     "data": {
      "text/plain": [
       "array([0.26695755, 0.16491493, 0.12825619, 0.13105065, 0.30882067])"
      ]
     },
     "execution_count": 4,
     "metadata": {},
     "output_type": "execute_result"
    }
   ],
   "source": [
    "n_categories = 5\n",
    "p_uni = np.full(n_categories, 1/n_categories)\n",
    "p = np.random.dirichlet(np.ones(n_categories), size=1).reshape(-1)\n",
    "p"
   ]
  },
  {
   "cell_type": "code",
   "execution_count": 7,
   "id": "1c9a096d-535e-45c1-93ef-208ba4916b3d",
   "metadata": {},
   "outputs": [
    {
     "data": {
      "image/png": "[encoded data removed]",
      "text/plain": [
       "<Figure size 640x480 with 1 Axes>"
      ]
     },
     "metadata": {},
     "output_type": "display_data"
    }
   ],
   "source": [
    "n_trials = 10\n",
    "p_act = p\n",
    "p_exp = p_uni\n",
    "rv = st.multinomial(n=n_trials, p=p_act)\n",
    "\n",
    "k = 500\n",
    "sample = rv.rvs(size=k)\n",
    "\n",
    "x = np.linspace(0, 1, k)\n",
    "\n",
    "for a in (-1, 0, 0.5, 1, 2):\n",
    "    stat, p_value = st.power_divergence(sample, f_exp=n_trials*p_exp, axis=1, lambda_=a)\n",
    "    p_value = np.sort(p_value)\n",
    "    plt.plot(p_value, x, label=fr\"$\\lambda = {a}$\")\n",
    "plt.plot(x, x, c='r')\n",
    "plt.legend();"
   ]
  },
  {
   "cell_type": "code",
   "execution_count": null,
   "id": "f3f1fa1f-31ae-4116-8021-dd557cd25279",
   "metadata": {
    "editable": true,
    "slideshow": {
     "slide_type": ""
    },
    "tags": []
   },
   "outputs": [],
   "source": []
  },
  {
   "cell_type": "code",
   "execution_count": null,
   "id": "87a1ac5b-3e91-4977-993b-b1a6e0a70c31",
   "metadata": {},
   "outputs": [],
   "source": []
  }
 ],
 "metadata": {
  "kernelspec": {
   "display_name": "Python 3 (ipykernel)",
   "language": "python",
   "name": "python3"
  },
  "language_info": {
   "codemirror_mode": {
    "name": "ipython",
    "version": 3
   },
   "file_extension": ".py",
   "mimetype": "text/x-python",
   "name": "python",
   "nbconvert_exporter": "python",
   "pygments_lexer": "ipython3",
   "version": "3.11.1"
  }
 },
 "nbformat": 4,
 "nbformat_minor": 5
}
