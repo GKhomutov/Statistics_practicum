{
 "cells": [
  {
   "cell_type": "code",
   "execution_count": 1,
   "id": "949c09e5-ff4d-4534-a1f5-d0293b4f88f4",
   "metadata": {
    "execution": {
     "iopub.execute_input": "2024-06-03T08:55:41.354519Z",
     "iopub.status.busy": "2024-06-03T08:55:41.353498Z",
     "iopub.status.idle": "2024-06-03T08:55:42.381049Z",
     "shell.execute_reply": "2024-06-03T08:55:42.380783Z",
     "shell.execute_reply.started": "2024-06-03T08:55:41.354462Z"
    }
   },
   "outputs": [],
   "source": [
    "import numpy as np\n",
    "import math as mt\n",
    "import scipy.stats as st\n",
    "import matplotlib.pyplot as plt\n",
    "import seaborn as sns\n",
    "from fractions import Fraction\n",
    "from tabulate import tabulate\n",
    "from collections import deque, namedtuple, Counter\n",
    "from tqdm import tqdm"
   ]
  },
  {
   "cell_type": "markdown",
   "id": "7ed48523-314d-444b-bac1-7ef043920f9b",
   "metadata": {},
   "source": [
    "### Задание 1"
   ]
  },
  {
   "cell_type": "code",
   "execution_count": 2,
   "id": "69358307-76e8-41c3-9b30-68b345672b48",
   "metadata": {
    "execution": {
     "iopub.execute_input": "2024-05-07T07:59:10.397496Z",
     "iopub.status.busy": "2024-05-07T07:59:10.397395Z",
     "iopub.status.idle": "2024-05-07T07:59:10.399958Z",
     "shell.execute_reply": "2024-05-07T07:59:10.399746Z",
     "shell.execute_reply.started": "2024-05-07T07:59:10.397487Z"
    }
   },
   "outputs": [],
   "source": [
    "chains = np.array([\n",
    "    [[1/4, 3/4, 0, 0],\n",
    "     [1/2, 0, 1/2, 0],\n",
    "     [0, 1/2, 0, 1/2],\n",
    "     [0, 0, 3/4, 1/4]],\n",
    "    \n",
    "    [[2/9, 1/3, 0, 4/9],\n",
    "     [4/9, 1/9, 0, 4/9],\n",
    "     [2/9, 2/9, 2/9, 1/3],\n",
    "     [2/9, 2/9, 4/9, 1/9]],\n",
    "    \n",
    "    [[0, 1/2, 0, 1/2],\n",
    "     [1/3, 0, 2/3, 0],\n",
    "     [0, 1/4, 0, 3/4],\n",
    "     [1/4, 0, 3/4, 0]]\n",
    "])"
   ]
  },
  {
   "cell_type": "code",
   "execution_count": 3,
   "id": "34f3c987-5aa0-42b2-8dbe-2e4353129c82",
   "metadata": {
    "execution": {
     "iopub.execute_input": "2024-05-07T07:59:10.401125Z",
     "iopub.status.busy": "2024-05-07T07:59:10.401049Z",
     "iopub.status.idle": "2024-05-07T07:59:10.402836Z",
     "shell.execute_reply": "2024-05-07T07:59:10.402621Z",
     "shell.execute_reply.started": "2024-05-07T07:59:10.401116Z"
    }
   },
   "outputs": [],
   "source": [
    "def stationary_distribution(chain):\n",
    "    eigenvals, eigenvects = np.linalg.eig(chain.T)\n",
    "    close_to_1_idx = np.isclose(eigenvals, 1)\n",
    "    stat_vect = eigenvects[:, close_to_1_idx][:, 0]\n",
    "    stat_distr = stat_vect / stat_vect.sum()\n",
    "    return stat_distr"
   ]
  },
  {
   "cell_type": "code",
   "execution_count": 4,
   "id": "51863e1b-3bb2-48ad-a7da-8a396c96a127",
   "metadata": {
    "execution": {
     "iopub.execute_input": "2024-05-07T07:59:10.403143Z",
     "iopub.status.busy": "2024-05-07T07:59:10.403083Z",
     "iopub.status.idle": "2024-05-07T07:59:10.411395Z",
     "shell.execute_reply": "2024-05-07T07:59:10.411120Z",
     "shell.execute_reply.started": "2024-05-07T07:59:10.403135Z"
    },
    "scrolled": true
   },
   "outputs": [
    {
     "name": "stdout",
     "output_type": "stream",
     "text": [
      "Стационарное распределение 1 цепи: [1/5 3/10 3/10 1/5]\n",
      "pow = 5:\n",
      "╒══════════╤══════════╤══════════╤══════════╕\n",
      "│ 0.176758 │ 0.430664 │ 0.169922 │ 0.222656 │\n",
      "├──────────┼──────────┼──────────┼──────────┤\n",
      "│ 0.287109 │ 0.146484 │ 0.453125 │ 0.113281 │\n",
      "├──────────┼──────────┼──────────┼──────────┤\n",
      "│ 0.113281 │ 0.453125 │ 0.146484 │ 0.287109 │\n",
      "├──────────┼──────────┼──────────┼──────────┤\n",
      "│ 0.222656 │ 0.169922 │ 0.430664 │ 0.176758 │\n",
      "╘══════════╧══════════╧══════════╧══════════╛\n",
      "\n",
      "pow = 10:\n",
      "╒══════════╤══════════╤══════════╤══════════╕\n",
      "│ 0.223716 │ 0.254039 │ 0.345961 │ 0.176285 │\n",
      "├──────────┼──────────┼──────────┼──────────┤\n",
      "│ 0.169359 │ 0.369677 │ 0.230324 │ 0.23064  │\n",
      "├──────────┼──────────┼──────────┼──────────┤\n",
      "│ 0.23064  │ 0.230324 │ 0.369677 │ 0.169359 │\n",
      "├──────────┼──────────┼──────────┼──────────┤\n",
      "│ 0.176285 │ 0.345961 │ 0.254039 │ 0.223716 │\n",
      "╘══════════╧══════════╧══════════╧══════════╛\n",
      "\n",
      "pow = 20:\n",
      "╒══════════╤══════════╤══════════╤══════════╕\n",
      "│ 0.203941 │ 0.291415 │ 0.308585 │ 0.196059 │\n",
      "├──────────┼──────────┼──────────┼──────────┤\n",
      "│ 0.194277 │ 0.312526 │ 0.287474 │ 0.205723 │\n",
      "├──────────┼──────────┼──────────┼──────────┤\n",
      "│ 0.205723 │ 0.287474 │ 0.312526 │ 0.194277 │\n",
      "├──────────┼──────────┼──────────┼──────────┤\n",
      "│ 0.196059 │ 0.308585 │ 0.291415 │ 0.203941 │\n",
      "╘══════════╧══════════╧══════════╧══════════╛\n",
      "\n",
      "pow = 30:\n",
      "╒══════════╤══════════╤══════════╤══════════╕\n",
      "│ 0.200713 │ 0.298441 │ 0.301559 │ 0.199287 │\n",
      "├──────────┼──────────┼──────────┼──────────┤\n",
      "│ 0.198961 │ 0.302272 │ 0.297728 │ 0.201039 │\n",
      "├──────────┼──────────┼──────────┼──────────┤\n",
      "│ 0.201039 │ 0.297728 │ 0.302272 │ 0.198961 │\n",
      "├──────────┼──────────┼──────────┼──────────┤\n",
      "│ 0.199287 │ 0.301559 │ 0.298441 │ 0.200713 │\n",
      "╘══════════╧══════════╧══════════╧══════════╛\n",
      "\n",
      "pow = 50:\n",
      "╒══════════╤══════════╤══════════╤══════════╕\n",
      "│ 0.200023 │ 0.299949 │ 0.300051 │ 0.199977 │\n",
      "├──────────┼──────────┼──────────┼──────────┤\n",
      "│ 0.199966 │ 0.300075 │ 0.299925 │ 0.200034 │\n",
      "├──────────┼──────────┼──────────┼──────────┤\n",
      "│ 0.200034 │ 0.299925 │ 0.300075 │ 0.199966 │\n",
      "├──────────┼──────────┼──────────┼──────────┤\n",
      "│ 0.199977 │ 0.300051 │ 0.299949 │ 0.200023 │\n",
      "╘══════════╧══════════╧══════════╧══════════╛\n",
      "\n",
      "----------------------------------------------------------------------------------------------------\n",
      "\n",
      "Стационарное распределение 2 цепи: [3/11 5/22 2/11 7/22]\n",
      "pow = 5:\n",
      "╒══════════╤══════════╤══════════╤══════════╕\n",
      "│ 0.272519 │ 0.227489 │ 0.181544 │ 0.318447 │\n",
      "├──────────┼──────────┼──────────┼──────────┤\n",
      "│ 0.273061 │ 0.226947 │ 0.181544 │ 0.318447 │\n",
      "├──────────┼──────────┼──────────┼──────────┤\n",
      "│ 0.272689 │ 0.227303 │ 0.181747 │ 0.318261 │\n",
      "├──────────┼──────────┼──────────┼──────────┤\n",
      "│ 0.272689 │ 0.227303 │ 0.182289 │ 0.317719 │\n",
      "╘══════════╧══════════╧══════════╧══════════╛\n",
      "\n",
      "pow = 10:\n",
      "╒══════════╤══════════╤══════════╤══════════╕\n",
      "│ 0.272727 │ 0.227273 │ 0.181818 │ 0.318182 │\n",
      "├──────────┼──────────┼──────────┼──────────┤\n",
      "│ 0.272727 │ 0.227273 │ 0.181818 │ 0.318182 │\n",
      "├──────────┼──────────┼──────────┼──────────┤\n",
      "│ 0.272727 │ 0.227273 │ 0.181818 │ 0.318182 │\n",
      "├──────────┼──────────┼──────────┼──────────┤\n",
      "│ 0.272727 │ 0.227273 │ 0.181818 │ 0.318182 │\n",
      "╘══════════╧══════════╧══════════╧══════════╛\n",
      "\n",
      "pow = 20:\n",
      "╒══════════╤══════════╤══════════╤══════════╕\n",
      "│ 0.272727 │ 0.227273 │ 0.181818 │ 0.318182 │\n",
      "├──────────┼──────────┼──────────┼──────────┤\n",
      "│ 0.272727 │ 0.227273 │ 0.181818 │ 0.318182 │\n",
      "├──────────┼──────────┼──────────┼──────────┤\n",
      "│ 0.272727 │ 0.227273 │ 0.181818 │ 0.318182 │\n",
      "├──────────┼──────────┼──────────┼──────────┤\n",
      "│ 0.272727 │ 0.227273 │ 0.181818 │ 0.318182 │\n",
      "╘══════════╧══════════╧══════════╧══════════╛\n",
      "\n",
      "pow = 30:\n",
      "╒══════════╤══════════╤══════════╤══════════╕\n",
      "│ 0.272727 │ 0.227273 │ 0.181818 │ 0.318182 │\n",
      "├──────────┼──────────┼──────────┼──────────┤\n",
      "│ 0.272727 │ 0.227273 │ 0.181818 │ 0.318182 │\n",
      "├──────────┼──────────┼──────────┼──────────┤\n",
      "│ 0.272727 │ 0.227273 │ 0.181818 │ 0.318182 │\n",
      "├──────────┼──────────┼──────────┼──────────┤\n",
      "│ 0.272727 │ 0.227273 │ 0.181818 │ 0.318182 │\n",
      "╘══════════╧══════════╧══════════╧══════════╛\n",
      "\n",
      "pow = 50:\n",
      "╒══════════╤══════════╤══════════╤══════════╕\n",
      "│ 0.272727 │ 0.227273 │ 0.181818 │ 0.318182 │\n",
      "├──────────┼──────────┼──────────┼──────────┤\n",
      "│ 0.272727 │ 0.227273 │ 0.181818 │ 0.318182 │\n",
      "├──────────┼──────────┼──────────┼──────────┤\n",
      "│ 0.272727 │ 0.227273 │ 0.181818 │ 0.318182 │\n",
      "├──────────┼──────────┼──────────┼──────────┤\n",
      "│ 0.272727 │ 0.227273 │ 0.181818 │ 0.318182 │\n",
      "╘══════════╧══════════╧══════════╧══════════╛\n",
      "\n",
      "----------------------------------------------------------------------------------------------------\n",
      "\n",
      "Стационарное распределение 3 цепи: [13/94 15/94 17/47 16/47]\n",
      "pow = 5:\n",
      "╒══════════╤══════════╤══════════╤══════════╕\n",
      "│ 0        │ 0.319227 │ 0        │ 0.680773 │\n",
      "├──────────┼──────────┼──────────┼──────────┤\n",
      "│ 0.27662  │ 0        │ 0.72338  │ 0        │\n",
      "├──────────┼──────────┼──────────┼──────────┤\n",
      "│ 0        │ 0.319119 │ 0        │ 0.680881 │\n",
      "├──────────┼──────────┼──────────┼──────────┤\n",
      "│ 0.276584 │ 0        │ 0.723416 │ 0        │\n",
      "╘══════════╧══════════╧══════════╧══════════╛\n",
      "\n",
      "pow = 10:\n",
      "╒══════════╤══════════╤══════════╤══════════╕\n",
      "│ 0.276596 │ 0        │ 0.723404 │ 0        │\n",
      "├──────────┼──────────┼──────────┼──────────┤\n",
      "│ 0        │ 0.319149 │ 0        │ 0.680851 │\n",
      "├──────────┼──────────┼──────────┼──────────┤\n",
      "│ 0.276596 │ 0        │ 0.723404 │ 0        │\n",
      "├──────────┼──────────┼──────────┼──────────┤\n",
      "│ 0        │ 0.319149 │ 0        │ 0.680851 │\n",
      "╘══════════╧══════════╧══════════╧══════════╛\n",
      "\n",
      "pow = 20:\n",
      "╒══════════╤══════════╤══════════╤══════════╕\n",
      "│ 0.276596 │ 0        │ 0.723404 │ 0        │\n",
      "├──────────┼──────────┼──────────┼──────────┤\n",
      "│ 0        │ 0.319149 │ 0        │ 0.680851 │\n",
      "├──────────┼──────────┼──────────┼──────────┤\n",
      "│ 0.276596 │ 0        │ 0.723404 │ 0        │\n",
      "├──────────┼──────────┼──────────┼──────────┤\n",
      "│ 0        │ 0.319149 │ 0        │ 0.680851 │\n",
      "╘══════════╧══════════╧══════════╧══════════╛\n",
      "\n",
      "pow = 30:\n",
      "╒══════════╤══════════╤══════════╤══════════╕\n",
      "│ 0.276596 │ 0        │ 0.723404 │ 0        │\n",
      "├──────────┼──────────┼──────────┼──────────┤\n",
      "│ 0        │ 0.319149 │ 0        │ 0.680851 │\n",
      "├──────────┼──────────┼──────────┼──────────┤\n",
      "│ 0.276596 │ 0        │ 0.723404 │ 0        │\n",
      "├──────────┼──────────┼──────────┼──────────┤\n",
      "│ 0        │ 0.319149 │ 0        │ 0.680851 │\n",
      "╘══════════╧══════════╧══════════╧══════════╛\n",
      "\n",
      "pow = 50:\n",
      "╒══════════╤══════════╤══════════╤══════════╕\n",
      "│ 0.276596 │ 0        │ 0.723404 │ 0        │\n",
      "├──────────┼──────────┼──────────┼──────────┤\n",
      "│ 0        │ 0.319149 │ 0        │ 0.680851 │\n",
      "├──────────┼──────────┼──────────┼──────────┤\n",
      "│ 0.276596 │ 0        │ 0.723404 │ 0        │\n",
      "├──────────┼──────────┼──────────┼──────────┤\n",
      "│ 0        │ 0.319149 │ 0        │ 0.680851 │\n",
      "╘══════════╧══════════╧══════════╧══════════╛\n",
      "\n",
      "----------------------------------------------------------------------------------------------------\n",
      "\n"
     ]
    }
   ],
   "source": [
    "for i, chain in enumerate(chains, 1):\n",
    "    stat_distr = stationary_distribution(chain)\n",
    "    with np.printoptions(formatter={'all': lambda x: str(Fraction(x).limit_denominator())}):\n",
    "        print(f\"Стационарное распределение {i} цепи: {stat_distr}\")\n",
    "    for k in [5, 10, 20, 30, 50]:\n",
    "        print(f\"pow = {k}:\")\n",
    "        mat = np.linalg.matrix_power(chain, k)\n",
    "        table = tabulate(mat, tablefmt=\"fancy_grid\")\n",
    "        print(f\"{table}\")    \n",
    "        print()\n",
    "    print('-' * 100 + '\\n')"
   ]
  },
  {
   "cell_type": "markdown",
   "id": "2b5103ba-bf18-4893-afc3-7ef8ac046bfe",
   "metadata": {},
   "source": [
    "### Задание 2"
   ]
  },
  {
   "cell_type": "code",
   "execution_count": 5,
   "id": "b3880924-28ef-4a45-b267-a78d6995de22",
   "metadata": {
    "execution": {
     "iopub.execute_input": "2024-05-07T07:59:10.412021Z",
     "iopub.status.busy": "2024-05-07T07:59:10.411915Z",
     "iopub.status.idle": "2024-05-07T07:59:10.415894Z",
     "shell.execute_reply": "2024-05-07T07:59:10.415637Z",
     "shell.execute_reply.started": "2024-05-07T07:59:10.412009Z"
    }
   },
   "outputs": [
    {
     "data": {
      "text/plain": [
       "array([0.47368421, 0.21052632, 0.31578947])"
      ]
     },
     "execution_count": 5,
     "metadata": {},
     "output_type": "execute_result"
    }
   ],
   "source": [
    "chain = np.array([[1/3, 1/3, 1/3],\n",
    "                  [3/4, 0, 1/4],\n",
    "                  [1/2, 1/6, 1/3]])\n",
    "n = chain.shape[0]\n",
    "stat_distr = stationary_distribution(chain)\n",
    "stat_distr"
   ]
  },
  {
   "cell_type": "code",
   "execution_count": 6,
   "id": "09b89a00-5f06-4f39-ae75-0a3b26024f56",
   "metadata": {
    "execution": {
     "iopub.execute_input": "2024-05-07T07:59:10.416337Z",
     "iopub.status.busy": "2024-05-07T07:59:10.416268Z",
     "iopub.status.idle": "2024-05-07T07:59:10.616376Z",
     "shell.execute_reply": "2024-05-07T07:59:10.616117Z",
     "shell.execute_reply.started": "2024-05-07T07:59:10.416328Z"
    }
   },
   "outputs": [
    {
     "name": "stdout",
     "output_type": "stream",
     "text": [
      "[0.4787 0.2097 0.3116]\n"
     ]
    },
    {
     "data": {
      "image/png": "[encoded data removed]",
      "text/plain": [
       "<Figure size 3000x600 with 1 Axes>"
      ]
     },
     "metadata": {},
     "output_type": "display_data"
    }
   ],
   "source": [
    "STEPS, STEPS_PLOT = 10_000, 100\n",
    "plt.figure(figsize=(30, 6))\n",
    "trip = np.zeros(STEPS, dtype=int)\n",
    "for i in range(STEPS - 1):\n",
    "    trip[i + 1] = np.random.choice(n, p=chain[trip[i]])\n",
    "print(np.bincount(trip, minlength=n) / STEPS)\n",
    "for i in range(STEPS_PLOT - 1):\n",
    "    plt.plot([i, i + 1], [trip[i], trip[i]], c='b', lw=7)"
   ]
  },
  {
   "cell_type": "code",
   "execution_count": 7,
   "id": "621ba43d-a21d-48d4-9d99-9fa883064cfc",
   "metadata": {
    "execution": {
     "iopub.execute_input": "2024-05-07T07:59:10.616881Z",
     "iopub.status.busy": "2024-05-07T07:59:10.616796Z",
     "iopub.status.idle": "2024-05-07T08:00:17.525810Z",
     "shell.execute_reply": "2024-05-07T08:00:17.525388Z",
     "shell.execute_reply.started": "2024-05-07T07:59:10.616870Z"
    }
   },
   "outputs": [
    {
     "name": "stderr",
     "output_type": "stream",
     "text": [
      "100%|███████████████████████████████████████| 1000/1000 [01:06<00:00, 14.95it/s]\n"
     ]
    }
   ],
   "source": [
    "K = 1000\n",
    "STEPS = 10_000\n",
    "cnt = np.ones(K, dtype=int)\n",
    "tau = np.zeros(K, dtype=int)\n",
    "for i in tqdm(range(K)):\n",
    "    cur = 0\n",
    "    for step in range(1, STEPS):\n",
    "        cur = np.random.choice(n, p=chain[cur])\n",
    "        if cur == 0:\n",
    "            if tau[i] == 0:\n",
    "                tau[i] = step\n",
    "            cnt[i] += 1"
   ]
  },
  {
   "cell_type": "code",
   "execution_count": 8,
   "id": "20cac591-b368-4b8f-852f-a4db4c4dea43",
   "metadata": {
    "execution": {
     "iopub.execute_input": "2024-05-07T08:00:17.526817Z",
     "iopub.status.busy": "2024-05-07T08:00:17.526676Z",
     "iopub.status.idle": "2024-05-07T08:00:17.613867Z",
     "shell.execute_reply": "2024-05-07T08:00:17.613613Z",
     "shell.execute_reply.started": "2024-05-07T08:00:17.526802Z"
    }
   },
   "outputs": [
    {
     "data": {
      "image/png": "[encoded data removed]",
      "text/plain": [
       "<Figure size 640x480 with 1 Axes>"
      ]
     },
     "metadata": {},
     "output_type": "display_data"
    }
   ],
   "source": [
    "t = STEPS**0.5 * (cnt / STEPS - stat_distr[0])\n",
    "var = stat_distr[0]**3 * np.var(tau, ddof=1)\n",
    "sns.histplot(t, stat=\"density\");\n",
    "xs = np.linspace(-2, 2, 400)\n",
    "ys = st.norm(0, var**0.5).pdf(xs)\n",
    "plt.plot(xs, ys, c='r', lw=3);"
   ]
  },
  {
   "cell_type": "markdown",
   "id": "c121984b-5727-4999-95bc-47892cc2db33",
   "metadata": {},
   "source": [
    "### Задание 3"
   ]
  },
  {
   "cell_type": "code",
   "execution_count": 9,
   "id": "ec0c97bd-93d2-48ce-8d67-9cf9706a45d2",
   "metadata": {
    "execution": {
     "iopub.execute_input": "2024-05-07T08:00:17.614352Z",
     "iopub.status.busy": "2024-05-07T08:00:17.614279Z",
     "iopub.status.idle": "2024-05-07T08:00:17.618968Z",
     "shell.execute_reply": "2024-05-07T08:00:17.618730Z",
     "shell.execute_reply.started": "2024-05-07T08:00:17.614343Z"
    }
   },
   "outputs": [
    {
     "data": {
      "text/plain": [
       "(50, 50)"
      ]
     },
     "execution_count": 9,
     "metadata": {},
     "output_type": "execute_result"
    }
   ],
   "source": [
    "with open(\"MarkovChain.txt\", 'r') as file:\n",
    "    chain = []\n",
    "    for line in file.readlines():\n",
    "        row = list(map(float, line.split(';')))\n",
    "        chain.append(row)\n",
    "chain = np.array(chain)\n",
    "n = chain.shape[0]\n",
    "chain.shape"
   ]
  },
  {
   "cell_type": "code",
   "execution_count": 10,
   "id": "9ed509b3-152f-4ee6-ac15-9262a9bae266",
   "metadata": {
    "execution": {
     "iopub.execute_input": "2024-05-07T08:00:17.619465Z",
     "iopub.status.busy": "2024-05-07T08:00:17.619383Z",
     "iopub.status.idle": "2024-05-07T08:00:17.621685Z",
     "shell.execute_reply": "2024-05-07T08:00:17.621474Z",
     "shell.execute_reply.started": "2024-05-07T08:00:17.619456Z"
    }
   },
   "outputs": [],
   "source": [
    "class_id = 0\n",
    "state_class = [-1] * n\n",
    "g = []\n",
    "\n",
    "def dfs(v):\n",
    "    state_class[v] = class_id\n",
    "    if v not in g[class_id]:\n",
    "        g[class_id][v] = []\n",
    "    for to in range(n):\n",
    "        if chain[v][to]:\n",
    "            g[class_id][v].append(to)\n",
    "            if state_class[to] == -1:\n",
    "                dfs(to)"
   ]
  },
  {
   "cell_type": "code",
   "execution_count": 11,
   "id": "455959a8-2c41-4ce9-b1f3-e0fe8dc2b448",
   "metadata": {
    "execution": {
     "iopub.execute_input": "2024-05-07T08:00:17.622105Z",
     "iopub.status.busy": "2024-05-07T08:00:17.622040Z",
     "iopub.status.idle": "2024-05-07T08:00:17.624167Z",
     "shell.execute_reply": "2024-05-07T08:00:17.623927Z",
     "shell.execute_reply.started": "2024-05-07T08:00:17.622097Z"
    }
   },
   "outputs": [],
   "source": [
    "for i in range(n):\n",
    "    if state_class[i] == -1:\n",
    "        g.append(dict())\n",
    "        dfs(i)\n",
    "        class_id += 1"
   ]
  },
  {
   "cell_type": "code",
   "execution_count": 12,
   "id": "a131b4be-7b4f-461c-873a-5f5253f201ef",
   "metadata": {
    "execution": {
     "iopub.execute_input": "2024-05-07T08:00:17.626018Z",
     "iopub.status.busy": "2024-05-07T08:00:17.625928Z",
     "iopub.status.idle": "2024-05-07T08:00:17.628177Z",
     "shell.execute_reply": "2024-05-07T08:00:17.627960Z",
     "shell.execute_reply.started": "2024-05-07T08:00:17.626009Z"
    }
   },
   "outputs": [],
   "source": [
    "dist = [-1] * n\n",
    "\n",
    "def bfs(s):\n",
    "    c = state_class[s]\n",
    "    q = deque()\n",
    "    q.append(s)\n",
    "    dist[s] = 0\n",
    "    while q:\n",
    "        v = q.popleft()\n",
    "        for to in g[c][v]:\n",
    "            if dist[to] == -1:\n",
    "                dist[to] = dist[v] + 1\n",
    "                q.append(to)"
   ]
  },
  {
   "cell_type": "code",
   "execution_count": 13,
   "id": "17ee3c9f-564a-4fbf-bf4c-085a0140da69",
   "metadata": {
    "execution": {
     "iopub.execute_input": "2024-05-07T08:00:17.628550Z",
     "iopub.status.busy": "2024-05-07T08:00:17.628482Z",
     "iopub.status.idle": "2024-05-07T08:00:17.631077Z",
     "shell.execute_reply": "2024-05-07T08:00:17.630827Z",
     "shell.execute_reply.started": "2024-05-07T08:00:17.628542Z"
    }
   },
   "outputs": [
    {
     "name": "stdout",
     "output_type": "stream",
     "text": [
      "Период неразложимого класса #0 равен d = 2. Разбиение на группы по периоду:\n",
      "\tГруппа #0: [0]\n",
      "\tГруппа #1: [37]\n",
      "Период неразложимого класса #1 равен d = 4. Разбиение на группы по периоду:\n",
      "\tГруппа #0: [1, 14, 26, 28, 30]\n",
      "\tГруппа #1: [5, 9, 11, 20, 25, 43]\n",
      "\tГруппа #2: [2, 7, 13, 19, 27, 32, 33, 34, 42]\n",
      "\tГруппа #3: [10, 12, 15, 21, 29, 35, 44, 47, 49]\n",
      "Период неразложимого класса #2 равен d = 3. Разбиение на группы по периоду:\n",
      "\tГруппа #0: [3]\n",
      "\tГруппа #1: [17]\n",
      "\tГруппа #2: [48]\n",
      "Период неразложимого класса #3 равен d = 3. Разбиение на группы по периоду:\n",
      "\tГруппа #0: [4]\n",
      "\tГруппа #1: [16, 46]\n",
      "\tГруппа #2: [18, 22, 41]\n",
      "Период неразложимого класса #4 равен d = 2. Разбиение на группы по периоду:\n",
      "\tГруппа #0: [6, 8, 23, 38]\n",
      "\tГруппа #1: [24, 36, 40, 45]\n",
      "Период неразложимого класса #5 равен d = 2. Разбиение на группы по периоду:\n",
      "\tГруппа #0: [31]\n",
      "\tГруппа #1: [39]\n"
     ]
    }
   ],
   "source": [
    "for i, comp in enumerate(g):\n",
    "    s = next(iter(comp))\n",
    "    bfs(s)\n",
    "    d = 0\n",
    "    for fr in comp:\n",
    "        for to in comp[fr]:\n",
    "            val = dist[fr] - dist[to] + 1\n",
    "            if val:\n",
    "                d = mt.gcd(d, val)\n",
    "    print(f\"Период неразложимого класса #{i} равен d = {d}. Разбиение на группы по периоду:\")\n",
    "    result = [[] for _ in range(d)]\n",
    "    for v in comp:\n",
    "        result[dist[v] % d].append(v)\n",
    "    for i in range(d):\n",
    "        print(f\"\\tГруппа #{i}: {result[i]}\")"
   ]
  },
  {
   "cell_type": "markdown",
   "id": "68b8d9fc-4d23-4491-a78e-a026f6cf586f",
   "metadata": {},
   "source": [
    "### Задание 4"
   ]
  },
  {
   "cell_type": "code",
   "execution_count": 14,
   "id": "171b7c97-0931-4002-a15e-eae0fc7b426e",
   "metadata": {
    "execution": {
     "iopub.execute_input": "2024-05-07T08:00:17.631559Z",
     "iopub.status.busy": "2024-05-07T08:00:17.631477Z",
     "iopub.status.idle": "2024-05-07T08:00:17.634375Z",
     "shell.execute_reply": "2024-05-07T08:00:17.634158Z",
     "shell.execute_reply.started": "2024-05-07T08:00:17.631551Z"
    }
   },
   "outputs": [
    {
     "data": {
      "text/plain": [
       "array([0.25 , 0.125, 0.25 , 0.375])"
      ]
     },
     "execution_count": 14,
     "metadata": {},
     "output_type": "execute_result"
    }
   ],
   "source": [
    "chain = np.array(\n",
    "    [[0, 0, 1/2, 1/2],\n",
    "     [0, 0, 0, 1],\n",
    "     [1/2, 0, 0, 1/2],\n",
    "     [1/3, 1/3, 1/3, 0]]\n",
    ")\n",
    "n = chain.shape[0]\n",
    "stat_distr = stationary_distribution(chain)\n",
    "stat_distr"
   ]
  },
  {
   "cell_type": "markdown",
   "id": "57698e90-ef44-4992-b2ac-02ded389ec26",
   "metadata": {},
   "source": [
    "### Задание 5"
   ]
  },
  {
   "cell_type": "code",
   "execution_count": 15,
   "id": "247ba0b4-13d8-400e-9c8d-ac8682fc31a1",
   "metadata": {
    "execution": {
     "iopub.execute_input": "2024-05-07T08:00:17.634859Z",
     "iopub.status.busy": "2024-05-07T08:00:17.634754Z",
     "iopub.status.idle": "2024-05-07T08:00:17.636761Z",
     "shell.execute_reply": "2024-05-07T08:00:17.636517Z",
     "shell.execute_reply.started": "2024-05-07T08:00:17.634850Z"
    }
   },
   "outputs": [],
   "source": [
    "def ret_prob(steps, N = 10_000, STOP = 1_000_000):\n",
    "    k, dim = steps.shape\n",
    "    cnt = 0\n",
    "    for _ in tqdm(range(N)):\n",
    "        trip = steps[np.random.choice(k, STOP)]\n",
    "        trip = np.cumsum(trip, axis=0)\n",
    "        if np.any(np.all(trip == 0, axis=1)):\n",
    "            cnt += 1\n",
    "    return cnt / N"
   ]
  },
  {
   "cell_type": "code",
   "execution_count": 27,
   "id": "dd0b68ef-2c92-4dec-a87e-7ac318b63931",
   "metadata": {
    "execution": {
     "iopub.execute_input": "2024-05-07T08:34:14.126972Z",
     "iopub.status.busy": "2024-05-07T08:34:14.126359Z",
     "iopub.status.idle": "2024-05-07T08:34:22.064599Z",
     "shell.execute_reply": "2024-05-07T08:34:22.064363Z",
     "shell.execute_reply.started": "2024-05-07T08:34:14.126923Z"
    }
   },
   "outputs": [
    {
     "name": "stderr",
     "output_type": "stream",
     "text": [
      "100%|███████████████████████████████████| 10000/10000 [00:07<00:00, 1260.84it/s]\n"
     ]
    },
    {
     "data": {
      "text/plain": [
       "0.9976"
      ]
     },
     "execution_count": 27,
     "metadata": {},
     "output_type": "execute_result"
    }
   ],
   "source": [
    "ret_prob(np.array([[-1], [1]]), STOP=100_000)"
   ]
  },
  {
   "cell_type": "code",
   "execution_count": 17,
   "id": "da33695c-3d27-4531-acb3-748f68d78605",
   "metadata": {
    "execution": {
     "iopub.execute_input": "2024-05-07T08:01:46.748754Z",
     "iopub.status.busy": "2024-05-07T08:01:46.747909Z",
     "iopub.status.idle": "2024-05-07T08:05:49.020987Z",
     "shell.execute_reply": "2024-05-07T08:05:49.020537Z",
     "shell.execute_reply.started": "2024-05-07T08:01:46.748743Z"
    }
   },
   "outputs": [
    {
     "name": "stderr",
     "output_type": "stream",
     "text": [
      "100%|█████████████████████████████████████| 10000/10000 [04:02<00:00, 41.28it/s]\n"
     ]
    },
    {
     "data": {
      "text/plain": [
       "0.8135"
      ]
     },
     "execution_count": 17,
     "metadata": {},
     "output_type": "execute_result"
    }
   ],
   "source": [
    "ret_prob(np.array([[1, 0], [0, 1], [-1, 0], [0, -1]]))"
   ]
  },
  {
   "cell_type": "code",
   "execution_count": 18,
   "id": "eb4a0f79-6e64-4ed1-9b6d-3c8109059a25",
   "metadata": {
    "execution": {
     "iopub.execute_input": "2024-05-07T08:05:49.021959Z",
     "iopub.status.busy": "2024-05-07T08:05:49.021832Z",
     "iopub.status.idle": "2024-05-07T08:11:17.596372Z",
     "shell.execute_reply": "2024-05-07T08:11:17.595905Z",
     "shell.execute_reply.started": "2024-05-07T08:05:49.021947Z"
    }
   },
   "outputs": [
    {
     "name": "stderr",
     "output_type": "stream",
     "text": [
      "100%|█████████████████████████████████████| 10000/10000 [05:28<00:00, 30.44it/s]\n"
     ]
    },
    {
     "data": {
      "text/plain": [
       "0.3338"
      ]
     },
     "execution_count": 18,
     "metadata": {},
     "output_type": "execute_result"
    }
   ],
   "source": [
    "ret_prob(np.array([[1, 0, 0], [0, 1, 0], [-1, 0, 0], [0, -1, 0], [0, 0, 1], [0, 0, -1]]))"
   ]
  },
  {
   "cell_type": "markdown",
   "id": "a302e27a-0670-4da3-aea5-15218d177f67",
   "metadata": {},
   "source": [
    "### Задание 6"
   ]
  },
  {
   "cell_type": "markdown",
   "id": "e035abed-aa67-441d-b21e-d8434388a993",
   "metadata": {},
   "source": [
    "$H_0: X_2, \\ldots, X_n$ - н.о.р.\n",
    "\n",
    "\n",
    "$H_1: X_2, \\ldots, X_n$ - о.ц.м., стартовавшая из $X_1$"
   ]
  },
  {
   "cell_type": "code",
   "execution_count": 109,
   "id": "c1ac99a1-ff1b-4aba-b32f-dd94debc402b",
   "metadata": {
    "execution": {
     "iopub.execute_input": "2024-06-03T10:28:37.172533Z",
     "iopub.status.busy": "2024-06-03T10:28:37.172186Z",
     "iopub.status.idle": "2024-06-03T10:28:37.183099Z",
     "shell.execute_reply": "2024-06-03T10:28:37.182392Z",
     "shell.execute_reply.started": "2024-06-03T10:28:37.172507Z"
    }
   },
   "outputs": [],
   "source": [
    "def wilks(X, n_states):\n",
    "    WilksResult = namedtuple('WilksResult', [\n",
    "        'statistic',\n",
    "        'pvalue'\n",
    "    ])\n",
    "    k, n = X.shape\n",
    "    # H_0\n",
    "    stat_0 = np.zeros(k)\n",
    "    for i, samp in enumerate(X):\n",
    "        d = Counter(samp[1:])\n",
    "        for cnt in d.values():\n",
    "            stat_0[i] += cnt * mt.log(cnt / (n - 1))\n",
    "    # H_1\n",
    "    stat_1 = np.zeros(k)\n",
    "    for i, samp in enumerate(X):\n",
    "        d = dict()\n",
    "        for j in range(n - 1):\n",
    "            if samp[j] not in d:\n",
    "                d[samp[j]] = []\n",
    "            d[samp[j]].append(samp[j + 1])\n",
    "        for lst in d.values():\n",
    "            c = Counter(lst)\n",
    "            for cnt in c.values():\n",
    "                stat_1[i] += cnt * mt.log(cnt / len(lst))\n",
    "    stat = 2 * (stat_1 - stat_0)\n",
    "    pval = 1 - st.chi2((n_states - 1)**2).cdf(stat)\n",
    "    res = WilksResult(stat, pval)\n",
    "    return res"
   ]
  },
  {
   "cell_type": "code",
   "execution_count": 110,
   "id": "b976a868-66d4-49d5-acd7-506dee3f6386",
   "metadata": {
    "execution": {
     "iopub.execute_input": "2024-06-03T10:28:37.367123Z",
     "iopub.status.busy": "2024-06-03T10:28:37.366805Z",
     "iopub.status.idle": "2024-06-03T10:28:38.003409Z",
     "shell.execute_reply": "2024-06-03T10:28:38.003163Z",
     "shell.execute_reply.started": "2024-06-03T10:28:37.367097Z"
    }
   },
   "outputs": [
    {
     "data": {
      "image/png": "[encoded data removed]",
      "text/plain": [
       "<Figure size 640x480 with 1 Axes>"
      ]
     },
     "metadata": {},
     "output_type": "display_data"
    }
   ],
   "source": [
    "K = 1_000\n",
    "N = 1_000\n",
    "\n",
    "unisplit = np.arange(1, K + 1) / K\n",
    "plt.plot([0, 1], [0, 1])\n",
    "for p in [0.33, 0.52, 0.5]:\n",
    "    X = st.bernoulli(1 - p).rvs((K, N))\n",
    "    X = np.logical_xor.accumulate(X, axis=1)\n",
    "    pvals = wilks(X, 2).pvalue\n",
    "    pvals = np.sort(pvals)\n",
    "    plt.plot(pvals, unisplit, label=f\"p = {p: .2f}\")\n",
    "plt.legend();"
   ]
  },
  {
   "cell_type": "code",
   "execution_count": null,
   "id": "878515c6-3743-4c50-a291-466953e5e3e1",
   "metadata": {},
   "outputs": [],
   "source": []
  },
  {
   "cell_type": "code",
   "execution_count": null,
   "id": "13886167-b0b6-48cc-93da-bf6f1ae83f16",
   "metadata": {},
   "outputs": [],
   "source": []
  }
 ],
 "metadata": {
  "kernelspec": {
   "display_name": "Python 3 (ipykernel)",
   "language": "python",
   "name": "python3"
  },
  "language_info": {
   "codemirror_mode": {
    "name": "ipython",
    "version": 3
   },
   "file_extension": ".py",
   "mimetype": "text/x-python",
   "name": "python",
   "nbconvert_exporter": "python",
   "pygments_lexer": "ipython3",
   "version": "3.11.1"
  }
 },
 "nbformat": 4,
 "nbformat_minor": 5
}
