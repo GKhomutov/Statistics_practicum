{
 "cells": [
  {
   "cell_type": "markdown",
   "metadata": {},
   "source": [
    "**Основные математические функции**"
   ]
  },
  {
   "cell_type": "markdown",
   "metadata": {},
   "source": [
    "https://pythonworld.ru/moduli/modul-math.html - описание прочих функций модуля math\n",
    "\n",
    "https://docs.python.org/3/library/math.html - еще одно на английском языке"
   ]
  },
  {
   "cell_type": "markdown",
   "metadata": {},
   "source": [
    "**Бибилиотека Scipy**"
   ]
  },
  {
   "cell_type": "code",
   "execution_count": 25,
   "metadata": {},
   "outputs": [],
   "source": [
    "import scipy as sc\n",
    "import scipy.special\n",
    "# sc.special.binom(n,m) - 1 способ получения биномиальных коэффициентов;\n",
    "# sc.scpecial.comb(n,m) - 2 способ;"
   ]
  },
  {
   "cell_type": "code",
   "execution_count": 26,
   "metadata": {
    "scrolled": true
   },
   "outputs": [
    {
     "data": {
      "text/plain": [
       "252.0"
      ]
     },
     "execution_count": 26,
     "metadata": {},
     "output_type": "execute_result"
    }
   ],
   "source": [
    "sc.special.binom(10,5)"
   ]
  },
  {
   "cell_type": "code",
   "execution_count": 28,
   "metadata": {},
   "outputs": [
    {
     "data": {
      "text/plain": [
       "252.0"
      ]
     },
     "execution_count": 28,
     "metadata": {},
     "output_type": "execute_result"
    }
   ],
   "source": [
    "sc.special.comb(10,5)"
   ]
  },
  {
   "cell_type": "markdown",
   "metadata": {},
   "source": [
    "**Графики и визуализация**"
   ]
  },
  {
   "cell_type": "markdown",
   "metadata": {},
   "source": [
    "https://jenyay.net/Matplotlib/Matplotlib - подробная шпаргалка по построению различных графиков\n",
    "\n",
    "\n",
    "http://profitraders.com/Math/Norm.html - полезный пример построения графика нормальной плотности при разных значениях дисперсии"
   ]
  },
  {
   "cell_type": "markdown",
   "metadata": {},
   "source": [
    "**Символьные вычисления**"
   ]
  },
  {
   "cell_type": "markdown",
   "metadata": {},
   "source": [
    "http://inp.nsk.su/~grozin/python/python7.html - описание пакета для символьных вычислений SymPy;\n",
    "\n",
    "\n",
    "https://yadi.sk/d/Tk-QnHWjtmEBog - Pdf версия."
   ]
  },
  {
   "cell_type": "markdown",
   "metadata": {},
   "source": [
    "**Работа с файлами в Python**"
   ]
  },
  {
   "cell_type": "markdown",
   "metadata": {},
   "source": [
    "https://pythonworld.ru/tipy-dannyx-v-python/fajly-rabota-s-fajlami.html\n",
    "\n",
    "https://python-scripts.com/work-with-files-python"
   ]
  },
  {
   "cell_type": "markdown",
   "metadata": {},
   "source": [
    "Пример визуализации и генерации случайных величин можно посмотреть здесь https://habr.com/ru/post/331560/"
   ]
  },
  {
   "cell_type": "markdown",
   "metadata": {},
   "source": [
    "**Генерирование случайных величин**"
   ]
  },
  {
   "cell_type": "markdown",
   "metadata": {},
   "source": [
    "Нам понадобится генерировать случайные величины из различных распределений. \n",
    "\n",
    "В Python за генерацию случайных величин отвечает библиотека random.\n",
    "\n",
    "Внутри нее есть различные генераторы: rnd.gauss, rnd.random, rnd.expovariate и так далее.\n",
    "\n",
    "Отметим также rnd.sample(array,number), выбирающее number случайных элементов из набора sample.\n",
    "\n",
    "https://ps.readthedocs.io/ru/latest/random.html - почитать про генерацию можно здесь."
   ]
  },
  {
   "cell_type": "markdown",
   "metadata": {},
   "source": [
    "*Дополнительно.*\n",
    "\n",
    "*Для заинтересованных в ознакомлении с языком R.*\n",
    " \n",
    "https://r-analytics.blogspot.com/2011/11/r_06.html#.XUHN5OgzaM8 - здесь можно прочитать про гистограммы;\n",
    "\n",
    "https://rpubs.com/AllaT/class5_old полезна для получения информации в целом про визуализацию."
   ]
  },
  {
   "cell_type": "code",
   "execution_count": null,
   "metadata": {},
   "outputs": [],
   "source": []
  }
 ],
 "metadata": {
  "kernelspec": {
   "display_name": "Python 3 (ipykernel)",
   "language": "python",
   "name": "python3"
  },
  "language_info": {
   "codemirror_mode": {
    "name": "ipython",
    "version": 3
   },
   "file_extension": ".py",
   "mimetype": "text/x-python",
   "name": "python",
   "nbconvert_exporter": "python",
   "pygments_lexer": "ipython3",
   "version": "3.10.9"
  }
 },
 "nbformat": 4,
 "nbformat_minor": 2
}
