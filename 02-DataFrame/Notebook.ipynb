{
 "cells": [
  {
   "cell_type": "markdown",
   "id": "386fa2bc",
   "metadata": {},
   "source": [
    "# Тема 2. DataFrame"
   ]
  },
  {
   "cell_type": "markdown",
   "id": "2a014d85",
   "metadata": {},
   "source": [
    "**В файле Priem.csv содержится датасет с данными абитурентов. Давайте поработаем с ним!**"
   ]
  },
  {
   "cell_type": "code",
   "execution_count": 4,
   "id": "f1f6cac4",
   "metadata": {
    "execution": {
     "iopub.execute_input": "2024-03-25T07:34:02.520635Z",
     "iopub.status.busy": "2024-03-25T07:34:02.520103Z",
     "iopub.status.idle": "2024-03-25T07:34:03.230838Z",
     "shell.execute_reply": "2024-03-25T07:34:03.230544Z",
     "shell.execute_reply.started": "2024-03-25T07:34:02.520583Z"
    }
   },
   "outputs": [],
   "source": [
    "import pandas as pd\n",
    "import phik\n",
    "import plotly.express as px"
   ]
  },
  {
   "cell_type": "code",
   "execution_count": 5,
   "id": "1b808dbf-b159-45cf-ac3c-d54ec8411923",
   "metadata": {
    "execution": {
     "iopub.execute_input": "2024-03-25T07:34:09.742194Z",
     "iopub.status.busy": "2024-03-25T07:34:09.740650Z",
     "iopub.status.idle": "2024-03-25T07:34:09.767303Z",
     "shell.execute_reply": "2024-03-25T07:34:09.766894Z",
     "shell.execute_reply.started": "2024-03-25T07:34:09.742115Z"
    }
   },
   "outputs": [
    {
     "data": {
      "text/html": [
       "<div>\n",
       "<style scoped>\n",
       "    .dataframe tbody tr th:only-of-type {\n",
       "        vertical-align: middle;\n",
       "    }\n",
       "\n",
       "    .dataframe tbody tr th {\n",
       "        vertical-align: top;\n",
       "    }\n",
       "\n",
       "    .dataframe thead th {\n",
       "        text-align: right;\n",
       "    }\n",
       "</style>\n",
       "<table border=\"1\" class=\"dataframe\">\n",
       "  <thead>\n",
       "    <tr style=\"text-align: right;\">\n",
       "      <th></th>\n",
       "      <th>Пол</th>\n",
       "      <th>Сумма.баллов</th>\n",
       "      <th>ЕГЭ...матем.</th>\n",
       "      <th>ЕГЭ...рус.яз.</th>\n",
       "      <th>Аттестат.с.отличием.оценка</th>\n",
       "      <th>ГТО.оценка</th>\n",
       "      <th>Сочинение.оценка</th>\n",
       "      <th>Регион</th>\n",
       "      <th>Тип.насел..пункта</th>\n",
       "      <th>Дата.рождения</th>\n",
       "      <th>День.рождения</th>\n",
       "      <th>Месяц.рождения</th>\n",
       "    </tr>\n",
       "  </thead>\n",
       "  <tbody>\n",
       "    <tr>\n",
       "      <th>0</th>\n",
       "      <td>МУЖСКОЙ</td>\n",
       "      <td>388</td>\n",
       "      <td>90.0</td>\n",
       "      <td>98.0</td>\n",
       "      <td>5</td>\n",
       "      <td>0</td>\n",
       "      <td>1</td>\n",
       "      <td>Красноярский край</td>\n",
       "      <td>ГОРОД</td>\n",
       "      <td>24.09.1998</td>\n",
       "      <td>24</td>\n",
       "      <td>9</td>\n",
       "    </tr>\n",
       "    <tr>\n",
       "      <th>1</th>\n",
       "      <td>ЖЕНСКИЙ</td>\n",
       "      <td>351</td>\n",
       "      <td>84.0</td>\n",
       "      <td>87.0</td>\n",
       "      <td>0</td>\n",
       "      <td>0</td>\n",
       "      <td>2</td>\n",
       "      <td>Чувашская Респ</td>\n",
       "      <td>ЦЕНТР СУБЪЕКТА ФЕДЕРАЦИИ</td>\n",
       "      <td>14.02.1997</td>\n",
       "      <td>14</td>\n",
       "      <td>2</td>\n",
       "    </tr>\n",
       "    <tr>\n",
       "      <th>2</th>\n",
       "      <td>ЖЕНСКИЙ</td>\n",
       "      <td>355</td>\n",
       "      <td>94.0</td>\n",
       "      <td>91.0</td>\n",
       "      <td>5</td>\n",
       "      <td>0</td>\n",
       "      <td>2</td>\n",
       "      <td>Москва г</td>\n",
       "      <td>ГОРОД ФЕДЕРАЛЬНОГО ЗНАЧЕНИЯ</td>\n",
       "      <td>25.03.2000</td>\n",
       "      <td>25</td>\n",
       "      <td>3</td>\n",
       "    </tr>\n",
       "  </tbody>\n",
       "</table>\n",
       "</div>"
      ],
      "text/plain": [
       "       Пол  Сумма.баллов  ЕГЭ...матем.  ЕГЭ...рус.яз.  \\\n",
       "0  МУЖСКОЙ           388          90.0           98.0   \n",
       "1  ЖЕНСКИЙ           351          84.0           87.0   \n",
       "2  ЖЕНСКИЙ           355          94.0           91.0   \n",
       "\n",
       "   Аттестат.с.отличием.оценка  ГТО.оценка  Сочинение.оценка  \\\n",
       "0                           5           0                 1   \n",
       "1                           0           0                 2   \n",
       "2                           5           0                 2   \n",
       "\n",
       "              Регион            Тип.насел..пункта Дата.рождения  \\\n",
       "0  Красноярский край                        ГОРОД    24.09.1998   \n",
       "1     Чувашская Респ     ЦЕНТР СУБЪЕКТА ФЕДЕРАЦИИ    14.02.1997   \n",
       "2           Москва г  ГОРОД ФЕДЕРАЛЬНОГО ЗНАЧЕНИЯ    25.03.2000   \n",
       "\n",
       "   День.рождения  Месяц.рождения  \n",
       "0             24               9  \n",
       "1             14               2  \n",
       "2             25               3  "
      ]
     },
     "execution_count": 5,
     "metadata": {},
     "output_type": "execute_result"
    }
   ],
   "source": [
    "df = pd.read_csv('Priem.csv', encoding='utf-8')\n",
    "df.head(3)"
   ]
  },
  {
   "cell_type": "code",
   "execution_count": 8,
   "id": "c4a4e1bf-a42c-4e0a-a6dc-1a04eb2b9b56",
   "metadata": {
    "execution": {
     "iopub.execute_input": "2024-03-25T07:34:50.076083Z",
     "iopub.status.busy": "2024-03-25T07:34:50.074371Z",
     "iopub.status.idle": "2024-03-25T07:34:51.006350Z",
     "shell.execute_reply": "2024-03-25T07:34:51.006081Z",
     "shell.execute_reply.started": "2024-03-25T07:34:50.076006Z"
    }
   },
   "outputs": [
    {
     "name": "stdout",
     "output_type": "stream",
     "text": [
      "interval columns not set, guessing: ['Сумма.баллов', 'ЕГЭ...матем.', 'ЕГЭ...рус.яз.', 'Аттестат.с.отличием.оценка', 'ГТО.оценка', 'Сочинение.оценка', 'День.рождения', 'Месяц.рождения']\n"
     ]
    },
    {
     "data": {
      "application/vnd.plotly.v1+json": {
       "config": {
        "plotlyServerURL": "https://plot.ly"
       },
       "data": [
        {
         "coloraxis": "coloraxis",
         "hovertemplate": "x: %{x}<br>y: %{y}<br>color: %{z}<extra></extra>",
         "name": "0",
         "texttemplate": "%{z}",
         "type": "heatmap",
         "x": [
          "Пол",
          "Сумма.баллов",
          "ЕГЭ...матем.",
          "ЕГЭ...рус.яз.",
          "Аттестат.с.отличием.оценка",
          "ГТО.оценка",
          "Сочинение.оценка",
          "Регион",
          "Тип.насел..пункта",
          "Дата.рождения",
          "День.рождения",
          "Месяц.рождения"
         ],
         "xaxis": "x",
         "y": [
          "Пол",
          "Сумма.баллов",
          "ЕГЭ...матем.",
          "ЕГЭ...рус.яз.",
          "Аттестат.с.отличием.оценка",
          "ГТО.оценка",
          "Сочинение.оценка",
          "Регион",
          "Тип.насел..пункта",
          "Дата.рождения",
          "День.рождения",
          "Месяц.рождения"
         ],
         "yaxis": "y",
         "z": [
          [
           1,
           0.08129259844499025,
           0,
           0.303332518740167,
           0.3705683950639816,
           0,
           0.24521172087057522,
           0.09241913880798698,
           0,
           0,
           0.026728760207878347,
           0
          ],
          [
           0.08129259844499025,
           1,
           0.8450115916499992,
           0.4766339217295446,
           0.27945518791092966,
           0.07442316321644912,
           0.17682893436561467,
           0,
           0.12021373811039614,
           0.49650824824765344,
           0.1046871245950892,
           0
          ],
          [
           0,
           0.8450115916499992,
           1,
           0.3626294060937188,
           0.06033279108946415,
           0.07446211974768555,
           0.10482127336922072,
           0,
           0.03793612274629503,
           0.6124698979036579,
           0.029867315049712757,
           0
          ],
          [
           0.303332518740167,
           0.4766339217295446,
           0.3626294060937188,
           1,
           0.41643006449439307,
           0.034057837232617405,
           0.22860794403154566,
           0,
           0.06807639167066096,
           0.7085577894902985,
           0,
           0
          ],
          [
           0.3705683950639816,
           0.27945518791092966,
           0.06033279108946415,
           0.41643006449439307,
           1,
           0.14364697734040843,
           0.2777391813022383,
           0.4117363376822675,
           0.19146978149264587,
           0,
           0.053636578839956095,
           0
          ],
          [
           0,
           0.07442316321644912,
           0.07446211974768555,
           0.034057837232617405,
           0.14364697734040843,
           1,
           0.06327966463075474,
           0.15033026260691576,
           0,
           0,
           0,
           0.038886812158281145
          ],
          [
           0.24521172087057522,
           0.17682893436561467,
           0.10482127336922072,
           0.22860794403154566,
           0.2777391813022383,
           0.06327966463075474,
           1,
           0.22622005075179666,
           0,
           0.33484003308593524,
           0,
           0
          ],
          [
           0.09241913880798698,
           0,
           0,
           0,
           0.4117363376822675,
           0.15033026260691576,
           0.22622005075179666,
           1,
           0.8436620511186046,
           0.6449922718628774,
           0.2128267140845315,
           0.06934252354660474
          ],
          [
           0,
           0.12021373811039614,
           0.03793612274629503,
           0.06807639167066096,
           0.19146978149264587,
           0,
           0,
           0.8436620511186046,
           1,
           0.03722704993642792,
           0,
           0
          ],
          [
           0,
           0.49650824824765344,
           0.6124698979036579,
           0.7085577894902985,
           0,
           0,
           0.33484003308593524,
           0.6449922718628774,
           0.03722704993642792,
           1,
           1,
           1
          ],
          [
           0.026728760207878347,
           0.1046871245950892,
           0.029867315049712757,
           0,
           0.053636578839956095,
           0,
           0,
           0.2128267140845315,
           0,
           1,
           1,
           0
          ],
          [
           0,
           0,
           0,
           0,
           0,
           0.038886812158281145,
           0,
           0.06934252354660474,
           0,
           1,
           0,
           1
          ]
         ]
        }
       ],
       "layout": {
        "coloraxis": {
         "colorscale": [
          [
           0,
           "#0d0887"
          ],
          [
           0.1111111111111111,
           "#46039f"
          ],
          [
           0.2222222222222222,
           "#7201a8"
          ],
          [
           0.3333333333333333,
           "#9c179e"
          ],
          [
           0.4444444444444444,
           "#bd3786"
          ],
          [
           0.5555555555555556,
           "#d8576b"
          ],
          [
           0.6666666666666666,
           "#ed7953"
          ],
          [
           0.7777777777777778,
           "#fb9f3a"
          ],
          [
           0.8888888888888888,
           "#fdca26"
          ],
          [
           1,
           "#f0f921"
          ]
         ]
        },
        "height": 900,
        "margin": {
         "t": 60
        },
        "template": {
         "data": {
          "bar": [
           {
            "error_x": {
             "color": "#2a3f5f"
            },
            "error_y": {
             "color": "#2a3f5f"
            },
            "marker": {
             "line": {
              "color": "#E5ECF6",
              "width": 0.5
             },
             "pattern": {
              "fillmode": "overlay",
              "size": 10,
              "solidity": 0.2
             }
            },
            "type": "bar"
           }
          ],
          "barpolar": [
           {
            "marker": {
             "line": {
              "color": "#E5ECF6",
              "width": 0.5
             },
             "pattern": {
              "fillmode": "overlay",
              "size": 10,
              "solidity": 0.2
             }
            },
            "type": "barpolar"
           }
          ],
          "carpet": [
           {
            "aaxis": {
             "endlinecolor": "#2a3f5f",
             "gridcolor": "white",
             "linecolor": "white",
             "minorgridcolor": "white",
             "startlinecolor": "#2a3f5f"
            },
            "baxis": {
             "endlinecolor": "#2a3f5f",
             "gridcolor": "white",
             "linecolor": "white",
             "minorgridcolor": "white",
             "startlinecolor": "#2a3f5f"
            },
            "type": "carpet"
           }
          ],
          "choropleth": [
           {
            "colorbar": {
             "outlinewidth": 0,
             "ticks": ""
            },
            "type": "choropleth"
           }
          ],
          "contour": [
           {
            "colorbar": {
             "outlinewidth": 0,
             "ticks": ""
            },
            "colorscale": [
             [
              0,
              "#0d0887"
             ],
             [
              0.1111111111111111,
              "#46039f"
             ],
             [
              0.2222222222222222,
              "#7201a8"
             ],
             [
              0.3333333333333333,
              "#9c179e"
             ],
             [
              0.4444444444444444,
              "#bd3786"
             ],
             [
              0.5555555555555556,
              "#d8576b"
             ],
             [
              0.6666666666666666,
              "#ed7953"
             ],
             [
              0.7777777777777778,
              "#fb9f3a"
             ],
             [
              0.8888888888888888,
              "#fdca26"
             ],
             [
              1,
              "#f0f921"
             ]
            ],
            "type": "contour"
           }
          ],
          "contourcarpet": [
           {
            "colorbar": {
             "outlinewidth": 0,
             "ticks": ""
            },
            "type": "contourcarpet"
           }
          ],
          "heatmap": [
           {
            "colorbar": {
             "outlinewidth": 0,
             "ticks": ""
            },
            "colorscale": [
             [
              0,
              "#0d0887"
             ],
             [
              0.1111111111111111,
              "#46039f"
             ],
             [
              0.2222222222222222,
              "#7201a8"
             ],
             [
              0.3333333333333333,
              "#9c179e"
             ],
             [
              0.4444444444444444,
              "#bd3786"
             ],
             [
              0.5555555555555556,
              "#d8576b"
             ],
             [
              0.6666666666666666,
              "#ed7953"
             ],
             [
              0.7777777777777778,
              "#fb9f3a"
             ],
             [
              0.8888888888888888,
              "#fdca26"
             ],
             [
              1,
              "#f0f921"
             ]
            ],
            "type": "heatmap"
           }
          ],
          "heatmapgl": [
           {
            "colorbar": {
             "outlinewidth": 0,
             "ticks": ""
            },
            "colorscale": [
             [
              0,
              "#0d0887"
             ],
             [
              0.1111111111111111,
              "#46039f"
             ],
             [
              0.2222222222222222,
              "#7201a8"
             ],
             [
              0.3333333333333333,
              "#9c179e"
             ],
             [
              0.4444444444444444,
              "#bd3786"
             ],
             [
              0.5555555555555556,
              "#d8576b"
             ],
             [
              0.6666666666666666,
              "#ed7953"
             ],
             [
              0.7777777777777778,
              "#fb9f3a"
             ],
             [
              0.8888888888888888,
              "#fdca26"
             ],
             [
              1,
              "#f0f921"
             ]
            ],
            "type": "heatmapgl"
           }
          ],
          "histogram": [
           {
            "marker": {
             "pattern": {
              "fillmode": "overlay",
              "size": 10,
              "solidity": 0.2
             }
            },
            "type": "histogram"
           }
          ],
          "histogram2d": [
           {
            "colorbar": {
             "outlinewidth": 0,
             "ticks": ""
            },
            "colorscale": [
             [
              0,
              "#0d0887"
             ],
             [
              0.1111111111111111,
              "#46039f"
             ],
             [
              0.2222222222222222,
              "#7201a8"
             ],
             [
              0.3333333333333333,
              "#9c179e"
             ],
             [
              0.4444444444444444,
              "#bd3786"
             ],
             [
              0.5555555555555556,
              "#d8576b"
             ],
             [
              0.6666666666666666,
              "#ed7953"
             ],
             [
              0.7777777777777778,
              "#fb9f3a"
             ],
             [
              0.8888888888888888,
              "#fdca26"
             ],
             [
              1,
              "#f0f921"
             ]
            ],
            "type": "histogram2d"
           }
          ],
          "histogram2dcontour": [
           {
            "colorbar": {
             "outlinewidth": 0,
             "ticks": ""
            },
            "colorscale": [
             [
              0,
              "#0d0887"
             ],
             [
              0.1111111111111111,
              "#46039f"
             ],
             [
              0.2222222222222222,
              "#7201a8"
             ],
             [
              0.3333333333333333,
              "#9c179e"
             ],
             [
              0.4444444444444444,
              "#bd3786"
             ],
             [
              0.5555555555555556,
              "#d8576b"
             ],
             [
              0.6666666666666666,
              "#ed7953"
             ],
             [
              0.7777777777777778,
              "#fb9f3a"
             ],
             [
              0.8888888888888888,
              "#fdca26"
             ],
             [
              1,
              "#f0f921"
             ]
            ],
            "type": "histogram2dcontour"
           }
          ],
          "mesh3d": [
           {
            "colorbar": {
             "outlinewidth": 0,
             "ticks": ""
            },
            "type": "mesh3d"
           }
          ],
          "parcoords": [
           {
            "line": {
             "colorbar": {
              "outlinewidth": 0,
              "ticks": ""
             }
            },
            "type": "parcoords"
           }
          ],
          "pie": [
           {
            "automargin": true,
            "type": "pie"
           }
          ],
          "scatter": [
           {
            "fillpattern": {
             "fillmode": "overlay",
             "size": 10,
             "solidity": 0.2
            },
            "type": "scatter"
           }
          ],
          "scatter3d": [
           {
            "line": {
             "colorbar": {
              "outlinewidth": 0,
              "ticks": ""
             }
            },
            "marker": {
             "colorbar": {
              "outlinewidth": 0,
              "ticks": ""
             }
            },
            "type": "scatter3d"
           }
          ],
          "scattercarpet": [
           {
            "marker": {
             "colorbar": {
              "outlinewidth": 0,
              "ticks": ""
             }
            },
            "type": "scattercarpet"
           }
          ],
          "scattergeo": [
           {
            "marker": {
             "colorbar": {
              "outlinewidth": 0,
              "ticks": ""
             }
            },
            "type": "scattergeo"
           }
          ],
          "scattergl": [
           {
            "marker": {
             "colorbar": {
              "outlinewidth": 0,
              "ticks": ""
             }
            },
            "type": "scattergl"
           }
          ],
          "scattermapbox": [
           {
            "marker": {
             "colorbar": {
              "outlinewidth": 0,
              "ticks": ""
             }
            },
            "type": "scattermapbox"
           }
          ],
          "scatterpolar": [
           {
            "marker": {
             "colorbar": {
              "outlinewidth": 0,
              "ticks": ""
             }
            },
            "type": "scatterpolar"
           }
          ],
          "scatterpolargl": [
           {
            "marker": {
             "colorbar": {
              "outlinewidth": 0,
              "ticks": ""
             }
            },
            "type": "scatterpolargl"
           }
          ],
          "scatterternary": [
           {
            "marker": {
             "colorbar": {
              "outlinewidth": 0,
              "ticks": ""
             }
            },
            "type": "scatterternary"
           }
          ],
          "surface": [
           {
            "colorbar": {
             "outlinewidth": 0,
             "ticks": ""
            },
            "colorscale": [
             [
              0,
              "#0d0887"
             ],
             [
              0.1111111111111111,
              "#46039f"
             ],
             [
              0.2222222222222222,
              "#7201a8"
             ],
             [
              0.3333333333333333,
              "#9c179e"
             ],
             [
              0.4444444444444444,
              "#bd3786"
             ],
             [
              0.5555555555555556,
              "#d8576b"
             ],
             [
              0.6666666666666666,
              "#ed7953"
             ],
             [
              0.7777777777777778,
              "#fb9f3a"
             ],
             [
              0.8888888888888888,
              "#fdca26"
             ],
             [
              1,
              "#f0f921"
             ]
            ],
            "type": "surface"
           }
          ],
          "table": [
           {
            "cells": {
             "fill": {
              "color": "#EBF0F8"
             },
             "line": {
              "color": "white"
             }
            },
            "header": {
             "fill": {
              "color": "#C8D4E3"
             },
             "line": {
              "color": "white"
             }
            },
            "type": "table"
           }
          ]
         },
         "layout": {
          "annotationdefaults": {
           "arrowcolor": "#2a3f5f",
           "arrowhead": 0,
           "arrowwidth": 1
          },
          "autotypenumbers": "strict",
          "coloraxis": {
           "colorbar": {
            "outlinewidth": 0,
            "ticks": ""
           }
          },
          "colorscale": {
           "diverging": [
            [
             0,
             "#8e0152"
            ],
            [
             0.1,
             "#c51b7d"
            ],
            [
             0.2,
             "#de77ae"
            ],
            [
             0.3,
             "#f1b6da"
            ],
            [
             0.4,
             "#fde0ef"
            ],
            [
             0.5,
             "#f7f7f7"
            ],
            [
             0.6,
             "#e6f5d0"
            ],
            [
             0.7,
             "#b8e186"
            ],
            [
             0.8,
             "#7fbc41"
            ],
            [
             0.9,
             "#4d9221"
            ],
            [
             1,
             "#276419"
            ]
           ],
           "sequential": [
            [
             0,
             "#0d0887"
            ],
            [
             0.1111111111111111,
             "#46039f"
            ],
            [
             0.2222222222222222,
             "#7201a8"
            ],
            [
             0.3333333333333333,
             "#9c179e"
            ],
            [
             0.4444444444444444,
             "#bd3786"
            ],
            [
             0.5555555555555556,
             "#d8576b"
            ],
            [
             0.6666666666666666,
             "#ed7953"
            ],
            [
             0.7777777777777778,
             "#fb9f3a"
            ],
            [
             0.8888888888888888,
             "#fdca26"
            ],
            [
             1,
             "#f0f921"
            ]
           ],
           "sequentialminus": [
            [
             0,
             "#0d0887"
            ],
            [
             0.1111111111111111,
             "#46039f"
            ],
            [
             0.2222222222222222,
             "#7201a8"
            ],
            [
             0.3333333333333333,
             "#9c179e"
            ],
            [
             0.4444444444444444,
             "#bd3786"
            ],
            [
             0.5555555555555556,
             "#d8576b"
            ],
            [
             0.6666666666666666,
             "#ed7953"
            ],
            [
             0.7777777777777778,
             "#fb9f3a"
            ],
            [
             0.8888888888888888,
             "#fdca26"
            ],
            [
             1,
             "#f0f921"
            ]
           ]
          },
          "colorway": [
           "#636efa",
           "#EF553B",
           "#00cc96",
           "#ab63fa",
           "#FFA15A",
           "#19d3f3",
           "#FF6692",
           "#B6E880",
           "#FF97FF",
           "#FECB52"
          ],
          "font": {
           "color": "#2a3f5f"
          },
          "geo": {
           "bgcolor": "white",
           "lakecolor": "white",
           "landcolor": "#E5ECF6",
           "showlakes": true,
           "showland": true,
           "subunitcolor": "white"
          },
          "hoverlabel": {
           "align": "left"
          },
          "hovermode": "closest",
          "mapbox": {
           "style": "light"
          },
          "paper_bgcolor": "white",
          "plot_bgcolor": "#E5ECF6",
          "polar": {
           "angularaxis": {
            "gridcolor": "white",
            "linecolor": "white",
            "ticks": ""
           },
           "bgcolor": "#E5ECF6",
           "radialaxis": {
            "gridcolor": "white",
            "linecolor": "white",
            "ticks": ""
           }
          },
          "scene": {
           "xaxis": {
            "backgroundcolor": "#E5ECF6",
            "gridcolor": "white",
            "gridwidth": 2,
            "linecolor": "white",
            "showbackground": true,
            "ticks": "",
            "zerolinecolor": "white"
           },
           "yaxis": {
            "backgroundcolor": "#E5ECF6",
            "gridcolor": "white",
            "gridwidth": 2,
            "linecolor": "white",
            "showbackground": true,
            "ticks": "",
            "zerolinecolor": "white"
           },
           "zaxis": {
            "backgroundcolor": "#E5ECF6",
            "gridcolor": "white",
            "gridwidth": 2,
            "linecolor": "white",
            "showbackground": true,
            "ticks": "",
            "zerolinecolor": "white"
           }
          },
          "shapedefaults": {
           "line": {
            "color": "#2a3f5f"
           }
          },
          "ternary": {
           "aaxis": {
            "gridcolor": "white",
            "linecolor": "white",
            "ticks": ""
           },
           "baxis": {
            "gridcolor": "white",
            "linecolor": "white",
            "ticks": ""
           },
           "bgcolor": "#E5ECF6",
           "caxis": {
            "gridcolor": "white",
            "linecolor": "white",
            "ticks": ""
           }
          },
          "title": {
           "x": 0.05
          },
          "xaxis": {
           "automargin": true,
           "gridcolor": "white",
           "linecolor": "white",
           "ticks": "",
           "title": {
            "standoff": 15
           },
           "zerolinecolor": "white",
           "zerolinewidth": 2
          },
          "yaxis": {
           "automargin": true,
           "gridcolor": "white",
           "linecolor": "white",
           "ticks": "",
           "title": {
            "standoff": 15
           },
           "zerolinecolor": "white",
           "zerolinewidth": 2
          }
         }
        },
        "width": 1000,
        "xaxis": {
         "anchor": "y",
         "autorange": true,
         "constrain": "domain",
         "domain": [
          0,
          1
         ],
         "range": [
          -0.5,
          11.5
         ],
         "scaleanchor": "y",
         "type": "category"
        },
        "yaxis": {
         "anchor": "x",
         "autorange": true,
         "constrain": "domain",
         "domain": [
          0.01358695652173908,
          0.9864130434782609
         ],
         "range": [
          11.5,
          -0.5
         ],
         "type": "category"
        }
       }
      },
      "image/png": "[encoded data removed]",
      "text/html": [
       "<div>                            <div id=\"9822d09e-1e0e-4dbc-bc80-e5ad7d09fbde\" class=\"plotly-graph-div\" style=\"height:900px; width:1000px;\"></div>            <script type=\"text/javascript\">                require([\"plotly\"], function(Plotly) {                    window.PLOTLYENV=window.PLOTLYENV || {};                                    if (document.getElementById(\"9822d09e-1e0e-4dbc-bc80-e5ad7d09fbde\")) {                    Plotly.newPlot(                        \"9822d09e-1e0e-4dbc-bc80-e5ad7d09fbde\",                        [{\"coloraxis\":\"coloraxis\",\"name\":\"0\",\"texttemplate\":\"%{z}\",\"x\":[\"\\u041f\\u043e\\u043b\",\"\\u0421\\u0443\\u043c\\u043c\\u0430.\\u0431\\u0430\\u043b\\u043b\\u043e\\u0432\",\"\\u0415\\u0413\\u042d...\\u043c\\u0430\\u0442\\u0435\\u043c.\",\"\\u0415\\u0413\\u042d...\\u0440\\u0443\\u0441.\\u044f\\u0437.\",\"\\u0410\\u0442\\u0442\\u0435\\u0441\\u0442\\u0430\\u0442.\\u0441.\\u043e\\u0442\\u043b\\u0438\\u0447\\u0438\\u0435\\u043c.\\u043e\\u0446\\u0435\\u043d\\u043a\\u0430\",\"\\u0413\\u0422\\u041e.\\u043e\\u0446\\u0435\\u043d\\u043a\\u0430\",\"\\u0421\\u043e\\u0447\\u0438\\u043d\\u0435\\u043d\\u0438\\u0435.\\u043e\\u0446\\u0435\\u043d\\u043a\\u0430\",\"\\u0420\\u0435\\u0433\\u0438\\u043e\\u043d\",\"\\u0422\\u0438\\u043f.\\u043d\\u0430\\u0441\\u0435\\u043b..\\u043f\\u0443\\u043d\\u043a\\u0442\\u0430\",\"\\u0414\\u0430\\u0442\\u0430.\\u0440\\u043e\\u0436\\u0434\\u0435\\u043d\\u0438\\u044f\",\"\\u0414\\u0435\\u043d\\u044c.\\u0440\\u043e\\u0436\\u0434\\u0435\\u043d\\u0438\\u044f\",\"\\u041c\\u0435\\u0441\\u044f\\u0446.\\u0440\\u043e\\u0436\\u0434\\u0435\\u043d\\u0438\\u044f\"],\"y\":[\"\\u041f\\u043e\\u043b\",\"\\u0421\\u0443\\u043c\\u043c\\u0430.\\u0431\\u0430\\u043b\\u043b\\u043e\\u0432\",\"\\u0415\\u0413\\u042d...\\u043c\\u0430\\u0442\\u0435\\u043c.\",\"\\u0415\\u0413\\u042d...\\u0440\\u0443\\u0441.\\u044f\\u0437.\",\"\\u0410\\u0442\\u0442\\u0435\\u0441\\u0442\\u0430\\u0442.\\u0441.\\u043e\\u0442\\u043b\\u0438\\u0447\\u0438\\u0435\\u043c.\\u043e\\u0446\\u0435\\u043d\\u043a\\u0430\",\"\\u0413\\u0422\\u041e.\\u043e\\u0446\\u0435\\u043d\\u043a\\u0430\",\"\\u0421\\u043e\\u0447\\u0438\\u043d\\u0435\\u043d\\u0438\\u0435.\\u043e\\u0446\\u0435\\u043d\\u043a\\u0430\",\"\\u0420\\u0435\\u0433\\u0438\\u043e\\u043d\",\"\\u0422\\u0438\\u043f.\\u043d\\u0430\\u0441\\u0435\\u043b..\\u043f\\u0443\\u043d\\u043a\\u0442\\u0430\",\"\\u0414\\u0430\\u0442\\u0430.\\u0440\\u043e\\u0436\\u0434\\u0435\\u043d\\u0438\\u044f\",\"\\u0414\\u0435\\u043d\\u044c.\\u0440\\u043e\\u0436\\u0434\\u0435\\u043d\\u0438\\u044f\",\"\\u041c\\u0435\\u0441\\u044f\\u0446.\\u0440\\u043e\\u0436\\u0434\\u0435\\u043d\\u0438\\u044f\"],\"z\":[[1.0,0.08129259844499025,0.0,0.303332518740167,0.3705683950639816,0.0,0.24521172087057522,0.09241913880798698,0.0,0.0,0.026728760207878347,0.0],[0.08129259844499025,1.0,0.8450115916499992,0.4766339217295446,0.27945518791092966,0.07442316321644912,0.17682893436561467,0.0,0.12021373811039614,0.49650824824765344,0.1046871245950892,0.0],[0.0,0.8450115916499992,1.0,0.3626294060937188,0.06033279108946415,0.07446211974768555,0.10482127336922072,0.0,0.03793612274629503,0.6124698979036579,0.029867315049712757,0.0],[0.303332518740167,0.4766339217295446,0.3626294060937188,1.0,0.41643006449439307,0.034057837232617405,0.22860794403154566,0.0,0.06807639167066096,0.7085577894902985,0.0,0.0],[0.3705683950639816,0.27945518791092966,0.06033279108946415,0.41643006449439307,1.0,0.14364697734040843,0.2777391813022383,0.4117363376822675,0.19146978149264587,0.0,0.053636578839956095,0.0],[0.0,0.07442316321644912,0.07446211974768555,0.034057837232617405,0.14364697734040843,1.0,0.06327966463075474,0.15033026260691576,0.0,0.0,0.0,0.038886812158281145],[0.24521172087057522,0.17682893436561467,0.10482127336922072,0.22860794403154566,0.2777391813022383,0.06327966463075474,1.0,0.22622005075179666,0.0,0.33484003308593524,0.0,0.0],[0.09241913880798698,0.0,0.0,0.0,0.4117363376822675,0.15033026260691576,0.22622005075179666,1.0,0.8436620511186046,0.6449922718628774,0.2128267140845315,0.06934252354660474],[0.0,0.12021373811039614,0.03793612274629503,0.06807639167066096,0.19146978149264587,0.0,0.0,0.8436620511186046,1.0,0.03722704993642792,0.0,0.0],[0.0,0.49650824824765344,0.6124698979036579,0.7085577894902985,0.0,0.0,0.33484003308593524,0.6449922718628774,0.03722704993642792,1.0,1.0,1.0],[0.026728760207878347,0.1046871245950892,0.029867315049712757,0.0,0.053636578839956095,0.0,0.0,0.2128267140845315,0.0,1.0,1.0,0.0],[0.0,0.0,0.0,0.0,0.0,0.038886812158281145,0.0,0.06934252354660474,0.0,1.0,0.0,1.0]],\"type\":\"heatmap\",\"xaxis\":\"x\",\"yaxis\":\"y\",\"hovertemplate\":\"x: %{x}\\u003cbr\\u003ey: %{y}\\u003cbr\\u003ecolor: %{z}\\u003cextra\\u003e\\u003c\\u002fextra\\u003e\"}],                        {\"template\":{\"data\":{\"histogram2dcontour\":[{\"type\":\"histogram2dcontour\",\"colorbar\":{\"outlinewidth\":0,\"ticks\":\"\"},\"colorscale\":[[0.0,\"#0d0887\"],[0.1111111111111111,\"#46039f\"],[0.2222222222222222,\"#7201a8\"],[0.3333333333333333,\"#9c179e\"],[0.4444444444444444,\"#bd3786\"],[0.5555555555555556,\"#d8576b\"],[0.6666666666666666,\"#ed7953\"],[0.7777777777777778,\"#fb9f3a\"],[0.8888888888888888,\"#fdca26\"],[1.0,\"#f0f921\"]]}],\"choropleth\":[{\"type\":\"choropleth\",\"colorbar\":{\"outlinewidth\":0,\"ticks\":\"\"}}],\"histogram2d\":[{\"type\":\"histogram2d\",\"colorbar\":{\"outlinewidth\":0,\"ticks\":\"\"},\"colorscale\":[[0.0,\"#0d0887\"],[0.1111111111111111,\"#46039f\"],[0.2222222222222222,\"#7201a8\"],[0.3333333333333333,\"#9c179e\"],[0.4444444444444444,\"#bd3786\"],[0.5555555555555556,\"#d8576b\"],[0.6666666666666666,\"#ed7953\"],[0.7777777777777778,\"#fb9f3a\"],[0.8888888888888888,\"#fdca26\"],[1.0,\"#f0f921\"]]}],\"heatmap\":[{\"type\":\"heatmap\",\"colorbar\":{\"outlinewidth\":0,\"ticks\":\"\"},\"colorscale\":[[0.0,\"#0d0887\"],[0.1111111111111111,\"#46039f\"],[0.2222222222222222,\"#7201a8\"],[0.3333333333333333,\"#9c179e\"],[0.4444444444444444,\"#bd3786\"],[0.5555555555555556,\"#d8576b\"],[0.6666666666666666,\"#ed7953\"],[0.7777777777777778,\"#fb9f3a\"],[0.8888888888888888,\"#fdca26\"],[1.0,\"#f0f921\"]]}],\"heatmapgl\":[{\"type\":\"heatmapgl\",\"colorbar\":{\"outlinewidth\":0,\"ticks\":\"\"},\"colorscale\":[[0.0,\"#0d0887\"],[0.1111111111111111,\"#46039f\"],[0.2222222222222222,\"#7201a8\"],[0.3333333333333333,\"#9c179e\"],[0.4444444444444444,\"#bd3786\"],[0.5555555555555556,\"#d8576b\"],[0.6666666666666666,\"#ed7953\"],[0.7777777777777778,\"#fb9f3a\"],[0.8888888888888888,\"#fdca26\"],[1.0,\"#f0f921\"]]}],\"contourcarpet\":[{\"type\":\"contourcarpet\",\"colorbar\":{\"outlinewidth\":0,\"ticks\":\"\"}}],\"contour\":[{\"type\":\"contour\",\"colorbar\":{\"outlinewidth\":0,\"ticks\":\"\"},\"colorscale\":[[0.0,\"#0d0887\"],[0.1111111111111111,\"#46039f\"],[0.2222222222222222,\"#7201a8\"],[0.3333333333333333,\"#9c179e\"],[0.4444444444444444,\"#bd3786\"],[0.5555555555555556,\"#d8576b\"],[0.6666666666666666,\"#ed7953\"],[0.7777777777777778,\"#fb9f3a\"],[0.8888888888888888,\"#fdca26\"],[1.0,\"#f0f921\"]]}],\"surface\":[{\"type\":\"surface\",\"colorbar\":{\"outlinewidth\":0,\"ticks\":\"\"},\"colorscale\":[[0.0,\"#0d0887\"],[0.1111111111111111,\"#46039f\"],[0.2222222222222222,\"#7201a8\"],[0.3333333333333333,\"#9c179e\"],[0.4444444444444444,\"#bd3786\"],[0.5555555555555556,\"#d8576b\"],[0.6666666666666666,\"#ed7953\"],[0.7777777777777778,\"#fb9f3a\"],[0.8888888888888888,\"#fdca26\"],[1.0,\"#f0f921\"]]}],\"mesh3d\":[{\"type\":\"mesh3d\",\"colorbar\":{\"outlinewidth\":0,\"ticks\":\"\"}}],\"scatter\":[{\"fillpattern\":{\"fillmode\":\"overlay\",\"size\":10,\"solidity\":0.2},\"type\":\"scatter\"}],\"parcoords\":[{\"type\":\"parcoords\",\"line\":{\"colorbar\":{\"outlinewidth\":0,\"ticks\":\"\"}}}],\"scatterpolargl\":[{\"type\":\"scatterpolargl\",\"marker\":{\"colorbar\":{\"outlinewidth\":0,\"ticks\":\"\"}}}],\"bar\":[{\"error_x\":{\"color\":\"#2a3f5f\"},\"error_y\":{\"color\":\"#2a3f5f\"},\"marker\":{\"line\":{\"color\":\"#E5ECF6\",\"width\":0.5},\"pattern\":{\"fillmode\":\"overlay\",\"size\":10,\"solidity\":0.2}},\"type\":\"bar\"}],\"scattergeo\":[{\"type\":\"scattergeo\",\"marker\":{\"colorbar\":{\"outlinewidth\":0,\"ticks\":\"\"}}}],\"scatterpolar\":[{\"type\":\"scatterpolar\",\"marker\":{\"colorbar\":{\"outlinewidth\":0,\"ticks\":\"\"}}}],\"histogram\":[{\"marker\":{\"pattern\":{\"fillmode\":\"overlay\",\"size\":10,\"solidity\":0.2}},\"type\":\"histogram\"}],\"scattergl\":[{\"type\":\"scattergl\",\"marker\":{\"colorbar\":{\"outlinewidth\":0,\"ticks\":\"\"}}}],\"scatter3d\":[{\"type\":\"scatter3d\",\"line\":{\"colorbar\":{\"outlinewidth\":0,\"ticks\":\"\"}},\"marker\":{\"colorbar\":{\"outlinewidth\":0,\"ticks\":\"\"}}}],\"scattermapbox\":[{\"type\":\"scattermapbox\",\"marker\":{\"colorbar\":{\"outlinewidth\":0,\"ticks\":\"\"}}}],\"scatterternary\":[{\"type\":\"scatterternary\",\"marker\":{\"colorbar\":{\"outlinewidth\":0,\"ticks\":\"\"}}}],\"scattercarpet\":[{\"type\":\"scattercarpet\",\"marker\":{\"colorbar\":{\"outlinewidth\":0,\"ticks\":\"\"}}}],\"carpet\":[{\"aaxis\":{\"endlinecolor\":\"#2a3f5f\",\"gridcolor\":\"white\",\"linecolor\":\"white\",\"minorgridcolor\":\"white\",\"startlinecolor\":\"#2a3f5f\"},\"baxis\":{\"endlinecolor\":\"#2a3f5f\",\"gridcolor\":\"white\",\"linecolor\":\"white\",\"minorgridcolor\":\"white\",\"startlinecolor\":\"#2a3f5f\"},\"type\":\"carpet\"}],\"table\":[{\"cells\":{\"fill\":{\"color\":\"#EBF0F8\"},\"line\":{\"color\":\"white\"}},\"header\":{\"fill\":{\"color\":\"#C8D4E3\"},\"line\":{\"color\":\"white\"}},\"type\":\"table\"}],\"barpolar\":[{\"marker\":{\"line\":{\"color\":\"#E5ECF6\",\"width\":0.5},\"pattern\":{\"fillmode\":\"overlay\",\"size\":10,\"solidity\":0.2}},\"type\":\"barpolar\"}],\"pie\":[{\"automargin\":true,\"type\":\"pie\"}]},\"layout\":{\"autotypenumbers\":\"strict\",\"colorway\":[\"#636efa\",\"#EF553B\",\"#00cc96\",\"#ab63fa\",\"#FFA15A\",\"#19d3f3\",\"#FF6692\",\"#B6E880\",\"#FF97FF\",\"#FECB52\"],\"font\":{\"color\":\"#2a3f5f\"},\"hovermode\":\"closest\",\"hoverlabel\":{\"align\":\"left\"},\"paper_bgcolor\":\"white\",\"plot_bgcolor\":\"#E5ECF6\",\"polar\":{\"bgcolor\":\"#E5ECF6\",\"angularaxis\":{\"gridcolor\":\"white\",\"linecolor\":\"white\",\"ticks\":\"\"},\"radialaxis\":{\"gridcolor\":\"white\",\"linecolor\":\"white\",\"ticks\":\"\"}},\"ternary\":{\"bgcolor\":\"#E5ECF6\",\"aaxis\":{\"gridcolor\":\"white\",\"linecolor\":\"white\",\"ticks\":\"\"},\"baxis\":{\"gridcolor\":\"white\",\"linecolor\":\"white\",\"ticks\":\"\"},\"caxis\":{\"gridcolor\":\"white\",\"linecolor\":\"white\",\"ticks\":\"\"}},\"coloraxis\":{\"colorbar\":{\"outlinewidth\":0,\"ticks\":\"\"}},\"colorscale\":{\"sequential\":[[0.0,\"#0d0887\"],[0.1111111111111111,\"#46039f\"],[0.2222222222222222,\"#7201a8\"],[0.3333333333333333,\"#9c179e\"],[0.4444444444444444,\"#bd3786\"],[0.5555555555555556,\"#d8576b\"],[0.6666666666666666,\"#ed7953\"],[0.7777777777777778,\"#fb9f3a\"],[0.8888888888888888,\"#fdca26\"],[1.0,\"#f0f921\"]],\"sequentialminus\":[[0.0,\"#0d0887\"],[0.1111111111111111,\"#46039f\"],[0.2222222222222222,\"#7201a8\"],[0.3333333333333333,\"#9c179e\"],[0.4444444444444444,\"#bd3786\"],[0.5555555555555556,\"#d8576b\"],[0.6666666666666666,\"#ed7953\"],[0.7777777777777778,\"#fb9f3a\"],[0.8888888888888888,\"#fdca26\"],[1.0,\"#f0f921\"]],\"diverging\":[[0,\"#8e0152\"],[0.1,\"#c51b7d\"],[0.2,\"#de77ae\"],[0.3,\"#f1b6da\"],[0.4,\"#fde0ef\"],[0.5,\"#f7f7f7\"],[0.6,\"#e6f5d0\"],[0.7,\"#b8e186\"],[0.8,\"#7fbc41\"],[0.9,\"#4d9221\"],[1,\"#276419\"]]},\"xaxis\":{\"gridcolor\":\"white\",\"linecolor\":\"white\",\"ticks\":\"\",\"title\":{\"standoff\":15},\"zerolinecolor\":\"white\",\"automargin\":true,\"zerolinewidth\":2},\"yaxis\":{\"gridcolor\":\"white\",\"linecolor\":\"white\",\"ticks\":\"\",\"title\":{\"standoff\":15},\"zerolinecolor\":\"white\",\"automargin\":true,\"zerolinewidth\":2},\"scene\":{\"xaxis\":{\"backgroundcolor\":\"#E5ECF6\",\"gridcolor\":\"white\",\"linecolor\":\"white\",\"showbackground\":true,\"ticks\":\"\",\"zerolinecolor\":\"white\",\"gridwidth\":2},\"yaxis\":{\"backgroundcolor\":\"#E5ECF6\",\"gridcolor\":\"white\",\"linecolor\":\"white\",\"showbackground\":true,\"ticks\":\"\",\"zerolinecolor\":\"white\",\"gridwidth\":2},\"zaxis\":{\"backgroundcolor\":\"#E5ECF6\",\"gridcolor\":\"white\",\"linecolor\":\"white\",\"showbackground\":true,\"ticks\":\"\",\"zerolinecolor\":\"white\",\"gridwidth\":2}},\"shapedefaults\":{\"line\":{\"color\":\"#2a3f5f\"}},\"annotationdefaults\":{\"arrowcolor\":\"#2a3f5f\",\"arrowhead\":0,\"arrowwidth\":1},\"geo\":{\"bgcolor\":\"white\",\"landcolor\":\"#E5ECF6\",\"subunitcolor\":\"white\",\"showland\":true,\"showlakes\":true,\"lakecolor\":\"white\"},\"title\":{\"x\":0.05},\"mapbox\":{\"style\":\"light\"}}},\"xaxis\":{\"anchor\":\"y\",\"domain\":[0.0,1.0],\"scaleanchor\":\"y\",\"constrain\":\"domain\"},\"yaxis\":{\"anchor\":\"x\",\"domain\":[0.0,1.0],\"autorange\":\"reversed\",\"constrain\":\"domain\"},\"coloraxis\":{\"colorscale\":[[0.0,\"#0d0887\"],[0.1111111111111111,\"#46039f\"],[0.2222222222222222,\"#7201a8\"],[0.3333333333333333,\"#9c179e\"],[0.4444444444444444,\"#bd3786\"],[0.5555555555555556,\"#d8576b\"],[0.6666666666666666,\"#ed7953\"],[0.7777777777777778,\"#fb9f3a\"],[0.8888888888888888,\"#fdca26\"],[1.0,\"#f0f921\"]]},\"margin\":{\"t\":60},\"height\":900,\"width\":1000},                        {\"responsive\": true}                    ).then(function(){\n",
       "                            \n",
       "var gd = document.getElementById('9822d09e-1e0e-4dbc-bc80-e5ad7d09fbde');\n",
       "var x = new MutationObserver(function (mutations, observer) {{\n",
       "        var display = window.getComputedStyle(gd).display;\n",
       "        if (!display || display === 'none') {{\n",
       "            console.log([gd, 'removed!']);\n",
       "            Plotly.purge(gd);\n",
       "            observer.disconnect();\n",
       "        }}\n",
       "}});\n",
       "\n",
       "// Listen for the removal of the full notebook cells\n",
       "var notebookContainer = gd.closest('#notebook-container');\n",
       "if (notebookContainer) {{\n",
       "    x.observe(notebookContainer, {childList: true});\n",
       "}}\n",
       "\n",
       "// Listen for the clearing of the current output cell\n",
       "var outputEl = gd.closest('.output');\n",
       "if (outputEl) {{\n",
       "    x.observe(outputEl, {childList: true});\n",
       "}}\n",
       "\n",
       "                        })                };                });            </script>        </div>"
      ]
     },
     "metadata": {},
     "output_type": "display_data"
    }
   ],
   "source": [
    "px.imshow(df.phik_matrix(), text_auto=True, width=1000, height=900)"
   ]
  },
  {
   "cell_type": "markdown",
   "id": "3b5a2c71-4bef-44ec-8a47-7f502afab7cf",
   "metadata": {},
   "source": [
    "### 1 Задание"
   ]
  },
  {
   "cell_type": "code",
   "execution_count": 3,
   "id": "546b826c-eec5-4a80-b4e9-4a9fe863d0e4",
   "metadata": {},
   "outputs": [
    {
     "name": "stdout",
     "output_type": "stream",
     "text": [
      "Число строк и столбцов датасета:  (1390, 12)\n",
      "Название 3-го столбца:  ЕГЭ...матем.\n",
      "Баллы ЕГЭ по математике и русскому у 7-го абитуриента:\n",
      "ЕГЭ...матем.     90.0\n",
      "ЕГЭ...рус.яз.    98.0\n",
      "Name: 6, dtype: object\n"
     ]
    }
   ],
   "source": [
    "print('Число строк и столбцов датасета: ', df.shape)\n",
    "print('Название 3-го столбца: ', df.columns[2])\n",
    "print('Баллы ЕГЭ по математике и русскому у 7-го абитуриента:', df.iloc[6][['ЕГЭ...матем.', 'ЕГЭ...рус.яз.']], sep='\\n')"
   ]
  },
  {
   "cell_type": "code",
   "execution_count": 4,
   "id": "364a2e11-f930-497d-b6b7-e0af2dd3a1d8",
   "metadata": {},
   "outputs": [
    {
     "data": {
      "text/plain": [
       "Пол                                               МУЖСКОЙ\n",
       "Сумма.баллов                                          349\n",
       "ЕГЭ...матем.                                         82.0\n",
       "ЕГЭ...рус.яз.                                        93.0\n",
       "Аттестат.с.отличием.оценка                              5\n",
       "ГТО.оценка                                              0\n",
       "Сочинение.оценка                                        2\n",
       "Регион                                           Москва г\n",
       "Тип.насел..пункта             ГОРОД ФЕДЕРАЛЬНОГО ЗНАЧЕНИЯ\n",
       "Дата.рождения                                  12.12.1999\n",
       "День.рождения                                          12\n",
       "Месяц.рождения                                         12\n",
       "Name: 4, dtype: object"
      ]
     },
     "execution_count": 4,
     "metadata": {},
     "output_type": "execute_result"
    }
   ],
   "source": [
    "# 5-ая строка\n",
    "df.iloc[4]"
   ]
  },
  {
   "cell_type": "code",
   "execution_count": 14,
   "id": "d80de2c1-065d-418a-951e-b8f1b2583ccb",
   "metadata": {},
   "outputs": [
    {
     "data": {
      "text/html": [
       "<div>\n",
       "<style scoped>\n",
       "    .dataframe tbody tr th:only-of-type {\n",
       "        vertical-align: middle;\n",
       "    }\n",
       "\n",
       "    .dataframe tbody tr th {\n",
       "        vertical-align: top;\n",
       "    }\n",
       "\n",
       "    .dataframe thead th {\n",
       "        text-align: right;\n",
       "    }\n",
       "</style>\n",
       "<table border=\"1\" class=\"dataframe\">\n",
       "  <thead>\n",
       "    <tr style=\"text-align: right;\">\n",
       "      <th></th>\n",
       "      <th>Пол</th>\n",
       "      <th>Сумма.баллов</th>\n",
       "      <th>ЕГЭ...матем.</th>\n",
       "      <th>ЕГЭ...рус.яз.</th>\n",
       "      <th>Аттестат.с.отличием.оценка</th>\n",
       "      <th>ГТО.оценка</th>\n",
       "      <th>Сочинение.оценка</th>\n",
       "      <th>Регион</th>\n",
       "      <th>Тип.насел..пункта</th>\n",
       "      <th>Дата.рождения</th>\n",
       "      <th>День.рождения</th>\n",
       "      <th>Месяц.рождения</th>\n",
       "      <th>Матем.лучше.рус</th>\n",
       "    </tr>\n",
       "  </thead>\n",
       "  <tbody>\n",
       "    <tr>\n",
       "      <th>355</th>\n",
       "      <td>МУЖСКОЙ</td>\n",
       "      <td>396</td>\n",
       "      <td>100.0</td>\n",
       "      <td>93.0</td>\n",
       "      <td>0</td>\n",
       "      <td>0</td>\n",
       "      <td>3</td>\n",
       "      <td>Москва г</td>\n",
       "      <td>ГОРОД ФЕДЕРАЛЬНОГО ЗНАЧЕНИЯ</td>\n",
       "      <td>07.06.1999</td>\n",
       "      <td>7</td>\n",
       "      <td>6</td>\n",
       "      <td>Да</td>\n",
       "    </tr>\n",
       "    <tr>\n",
       "      <th>382</th>\n",
       "      <td>МУЖСКОЙ</td>\n",
       "      <td>344</td>\n",
       "      <td>99.0</td>\n",
       "      <td>96.0</td>\n",
       "      <td>5</td>\n",
       "      <td>0</td>\n",
       "      <td>2</td>\n",
       "      <td>Московская обл</td>\n",
       "      <td>ГОРОД</td>\n",
       "      <td>17.04.2000</td>\n",
       "      <td>17</td>\n",
       "      <td>4</td>\n",
       "      <td>Да</td>\n",
       "    </tr>\n",
       "    <tr>\n",
       "      <th>389</th>\n",
       "      <td>ЖЕНСКИЙ</td>\n",
       "      <td>359</td>\n",
       "      <td>99.0</td>\n",
       "      <td>98.0</td>\n",
       "      <td>0</td>\n",
       "      <td>0</td>\n",
       "      <td>3</td>\n",
       "      <td>Московская обл</td>\n",
       "      <td>ГОРОД</td>\n",
       "      <td>27.01.1999</td>\n",
       "      <td>27</td>\n",
       "      <td>1</td>\n",
       "      <td>Да</td>\n",
       "    </tr>\n",
       "    <tr>\n",
       "      <th>395</th>\n",
       "      <td>МУЖСКОЙ</td>\n",
       "      <td>351</td>\n",
       "      <td>99.0</td>\n",
       "      <td>96.0</td>\n",
       "      <td>0</td>\n",
       "      <td>0</td>\n",
       "      <td>2</td>\n",
       "      <td>Москва г</td>\n",
       "      <td>ГОРОД ФЕДЕРАЛЬНОГО ЗНАЧЕНИЯ</td>\n",
       "      <td>09.10.1999</td>\n",
       "      <td>9</td>\n",
       "      <td>10</td>\n",
       "      <td>Да</td>\n",
       "    </tr>\n",
       "    <tr>\n",
       "      <th>407</th>\n",
       "      <td>ЖЕНСКИЙ</td>\n",
       "      <td>376</td>\n",
       "      <td>100.0</td>\n",
       "      <td>91.0</td>\n",
       "      <td>5</td>\n",
       "      <td>0</td>\n",
       "      <td>3</td>\n",
       "      <td>Москва г</td>\n",
       "      <td>ГОРОД ФЕДЕРАЛЬНОГО ЗНАЧЕНИЯ</td>\n",
       "      <td>14.04.2000</td>\n",
       "      <td>14</td>\n",
       "      <td>4</td>\n",
       "      <td>Да</td>\n",
       "    </tr>\n",
       "  </tbody>\n",
       "</table>\n",
       "</div>"
      ],
      "text/plain": [
       "         Пол  Сумма.баллов  ЕГЭ...матем.  ЕГЭ...рус.яз.  \\\n",
       "355  МУЖСКОЙ           396         100.0           93.0   \n",
       "382  МУЖСКОЙ           344          99.0           96.0   \n",
       "389  ЖЕНСКИЙ           359          99.0           98.0   \n",
       "395  МУЖСКОЙ           351          99.0           96.0   \n",
       "407  ЖЕНСКИЙ           376         100.0           91.0   \n",
       "\n",
       "     Аттестат.с.отличием.оценка  ГТО.оценка  Сочинение.оценка          Регион  \\\n",
       "355                           0           0                 3        Москва г   \n",
       "382                           5           0                 2  Московская обл   \n",
       "389                           0           0                 3  Московская обл   \n",
       "395                           0           0                 2        Москва г   \n",
       "407                           5           0                 3        Москва г   \n",
       "\n",
       "               Тип.насел..пункта Дата.рождения  День.рождения  Месяц.рождения  \\\n",
       "355  ГОРОД ФЕДЕРАЛЬНОГО ЗНАЧЕНИЯ    07.06.1999              7               6   \n",
       "382                        ГОРОД    17.04.2000             17               4   \n",
       "389                        ГОРОД    27.01.1999             27               1   \n",
       "395  ГОРОД ФЕДЕРАЛЬНОГО ЗНАЧЕНИЯ    09.10.1999              9              10   \n",
       "407  ГОРОД ФЕДЕРАЛЬНОГО ЗНАЧЕНИЯ    14.04.2000             14               4   \n",
       "\n",
       "    Матем.лучше.рус  \n",
       "355              Да  \n",
       "382              Да  \n",
       "389              Да  \n",
       "395              Да  \n",
       "407              Да  "
      ]
     },
     "execution_count": 14,
     "metadata": {},
     "output_type": "execute_result"
    }
   ],
   "source": [
    "# 5 высокобалльников по математике, начиная с 32-го:\n",
    "mathematicians = df[df['ЕГЭ...матем.'] > 98]\n",
    "mathematicians.iloc[31:36]"
   ]
  },
  {
   "cell_type": "markdown",
   "id": "139863e4-c457-471c-8b7f-c3de1b8d22c0",
   "metadata": {},
   "source": [
    "### 2 Задание"
   ]
  },
  {
   "cell_type": "markdown",
   "id": "3720b4ff-bd31-4f88-be5c-8331d2958680",
   "metadata": {},
   "source": [
    "Выведите баллы ЕГЭ у первых 5 абитуриентов."
   ]
  },
  {
   "cell_type": "code",
   "execution_count": 6,
   "id": "b68147e4-e86d-4d3d-b503-dab34ee66063",
   "metadata": {},
   "outputs": [
    {
     "data": {
      "text/html": [
       "<div>\n",
       "<style scoped>\n",
       "    .dataframe tbody tr th:only-of-type {\n",
       "        vertical-align: middle;\n",
       "    }\n",
       "\n",
       "    .dataframe tbody tr th {\n",
       "        vertical-align: top;\n",
       "    }\n",
       "\n",
       "    .dataframe thead th {\n",
       "        text-align: right;\n",
       "    }\n",
       "</style>\n",
       "<table border=\"1\" class=\"dataframe\">\n",
       "  <thead>\n",
       "    <tr style=\"text-align: right;\">\n",
       "      <th></th>\n",
       "      <th>ЕГЭ...матем.</th>\n",
       "      <th>ЕГЭ...рус.яз.</th>\n",
       "    </tr>\n",
       "  </thead>\n",
       "  <tbody>\n",
       "    <tr>\n",
       "      <th>0</th>\n",
       "      <td>90.0</td>\n",
       "      <td>98.0</td>\n",
       "    </tr>\n",
       "    <tr>\n",
       "      <th>1</th>\n",
       "      <td>84.0</td>\n",
       "      <td>87.0</td>\n",
       "    </tr>\n",
       "    <tr>\n",
       "      <th>2</th>\n",
       "      <td>94.0</td>\n",
       "      <td>91.0</td>\n",
       "    </tr>\n",
       "    <tr>\n",
       "      <th>3</th>\n",
       "      <td>76.0</td>\n",
       "      <td>88.0</td>\n",
       "    </tr>\n",
       "    <tr>\n",
       "      <th>4</th>\n",
       "      <td>82.0</td>\n",
       "      <td>93.0</td>\n",
       "    </tr>\n",
       "  </tbody>\n",
       "</table>\n",
       "</div>"
      ],
      "text/plain": [
       "   ЕГЭ...матем.  ЕГЭ...рус.яз.\n",
       "0          90.0           98.0\n",
       "1          84.0           87.0\n",
       "2          94.0           91.0\n",
       "3          76.0           88.0\n",
       "4          82.0           93.0"
      ]
     },
     "execution_count": 6,
     "metadata": {},
     "output_type": "execute_result"
    }
   ],
   "source": [
    "df.loc[:, df.columns.str.startswith('ЕГЭ')].head()"
   ]
  },
  {
   "cell_type": "markdown",
   "id": "4d3aa326-e5aa-414f-ba46-f19cee34fe96",
   "metadata": {},
   "source": [
    "Добавьте столбец, в котором стоит \"Да\", если балл по математике больше балла по русскому, и \"Нет\" иначе."
   ]
  },
  {
   "cell_type": "code",
   "execution_count": 7,
   "id": "653f4601-0bfe-4d39-a47c-903e5c803582",
   "metadata": {},
   "outputs": [
    {
     "data": {
      "text/html": [
       "<div>\n",
       "<style scoped>\n",
       "    .dataframe tbody tr th:only-of-type {\n",
       "        vertical-align: middle;\n",
       "    }\n",
       "\n",
       "    .dataframe tbody tr th {\n",
       "        vertical-align: top;\n",
       "    }\n",
       "\n",
       "    .dataframe thead th {\n",
       "        text-align: right;\n",
       "    }\n",
       "</style>\n",
       "<table border=\"1\" class=\"dataframe\">\n",
       "  <thead>\n",
       "    <tr style=\"text-align: right;\">\n",
       "      <th></th>\n",
       "      <th>ЕГЭ...матем.</th>\n",
       "      <th>ЕГЭ...рус.яз.</th>\n",
       "      <th>Матем.лучше.рус</th>\n",
       "    </tr>\n",
       "  </thead>\n",
       "  <tbody>\n",
       "    <tr>\n",
       "      <th>1385</th>\n",
       "      <td>100.0</td>\n",
       "      <td>98.0</td>\n",
       "      <td>Да</td>\n",
       "    </tr>\n",
       "    <tr>\n",
       "      <th>1386</th>\n",
       "      <td>92.0</td>\n",
       "      <td>93.0</td>\n",
       "      <td>Нет</td>\n",
       "    </tr>\n",
       "    <tr>\n",
       "      <th>1387</th>\n",
       "      <td>100.0</td>\n",
       "      <td>93.0</td>\n",
       "      <td>Да</td>\n",
       "    </tr>\n",
       "    <tr>\n",
       "      <th>1388</th>\n",
       "      <td>76.0</td>\n",
       "      <td>98.0</td>\n",
       "      <td>Нет</td>\n",
       "    </tr>\n",
       "    <tr>\n",
       "      <th>1389</th>\n",
       "      <td>100.0</td>\n",
       "      <td>96.0</td>\n",
       "      <td>Да</td>\n",
       "    </tr>\n",
       "  </tbody>\n",
       "</table>\n",
       "</div>"
      ],
      "text/plain": [
       "      ЕГЭ...матем.  ЕГЭ...рус.яз. Матем.лучше.рус\n",
       "1385         100.0           98.0              Да\n",
       "1386          92.0           93.0             Нет\n",
       "1387         100.0           93.0              Да\n",
       "1388          76.0           98.0             Нет\n",
       "1389         100.0           96.0              Да"
      ]
     },
     "execution_count": 7,
     "metadata": {},
     "output_type": "execute_result"
    }
   ],
   "source": [
    "# df.insert(pos, name, series, allow_duplicates=False)\n",
    "# new_df = df.assign(name1=lambda _df: _df['ЕГЭ...матем.'] > _df['ЕГЭ...рус.яз.'], name2=100500, ...)\n",
    "new_column_name = 'Матем.лучше.рус'\n",
    "df[new_column_name] = (df['ЕГЭ...матем.'] > df['ЕГЭ...рус.яз.']).apply(lambda b: 'Да' if b else 'Нет')\n",
    "df.tail()[['ЕГЭ...матем.', 'ЕГЭ...рус.яз.', new_column_name]]"
   ]
  },
  {
   "cell_type": "markdown",
   "id": "bcbebf19-a06f-4805-86e6-7422f6a46d46",
   "metadata": {},
   "source": [
    "Создайте новый датасет из абитуриентов со средним баллом ЕГЭ выше 95."
   ]
  },
  {
   "cell_type": "code",
   "execution_count": 8,
   "id": "c6db89a8-34f3-4307-b5b7-3e02a810ed3a",
   "metadata": {},
   "outputs": [
    {
     "data": {
      "text/html": [
       "<div>\n",
       "<style scoped>\n",
       "    .dataframe tbody tr th:only-of-type {\n",
       "        vertical-align: middle;\n",
       "    }\n",
       "\n",
       "    .dataframe tbody tr th {\n",
       "        vertical-align: top;\n",
       "    }\n",
       "\n",
       "    .dataframe thead th {\n",
       "        text-align: right;\n",
       "    }\n",
       "</style>\n",
       "<table border=\"1\" class=\"dataframe\">\n",
       "  <thead>\n",
       "    <tr style=\"text-align: right;\">\n",
       "      <th></th>\n",
       "      <th>Пол</th>\n",
       "      <th>Сумма.баллов</th>\n",
       "      <th>ЕГЭ...матем.</th>\n",
       "      <th>ЕГЭ...рус.яз.</th>\n",
       "      <th>Аттестат.с.отличием.оценка</th>\n",
       "      <th>ГТО.оценка</th>\n",
       "      <th>Сочинение.оценка</th>\n",
       "      <th>Регион</th>\n",
       "      <th>Тип.насел..пункта</th>\n",
       "      <th>Дата.рождения</th>\n",
       "      <th>День.рождения</th>\n",
       "      <th>Месяц.рождения</th>\n",
       "      <th>Матем.лучше.рус</th>\n",
       "    </tr>\n",
       "  </thead>\n",
       "  <tbody>\n",
       "    <tr>\n",
       "      <th>10</th>\n",
       "      <td>ЖЕНСКИЙ</td>\n",
       "      <td>399</td>\n",
       "      <td>96.0</td>\n",
       "      <td>100.0</td>\n",
       "      <td>5</td>\n",
       "      <td>0</td>\n",
       "      <td>2</td>\n",
       "      <td>Москва г</td>\n",
       "      <td>ГОРОД ФЕДЕРАЛЬНОГО ЗНАЧЕНИЯ</td>\n",
       "      <td>13.11.1999</td>\n",
       "      <td>13</td>\n",
       "      <td>11</td>\n",
       "      <td>Нет</td>\n",
       "    </tr>\n",
       "    <tr>\n",
       "      <th>16</th>\n",
       "      <td>МУЖСКОЙ</td>\n",
       "      <td>388</td>\n",
       "      <td>96.0</td>\n",
       "      <td>98.0</td>\n",
       "      <td>0</td>\n",
       "      <td>0</td>\n",
       "      <td>0</td>\n",
       "      <td>Москва г</td>\n",
       "      <td>ГОРОД ФЕДЕРАЛЬНОГО ЗНАЧЕНИЯ</td>\n",
       "      <td>15.02.2000</td>\n",
       "      <td>15</td>\n",
       "      <td>2</td>\n",
       "      <td>Нет</td>\n",
       "    </tr>\n",
       "    <tr>\n",
       "      <th>19</th>\n",
       "      <td>ЖЕНСКИЙ</td>\n",
       "      <td>364</td>\n",
       "      <td>94.0</td>\n",
       "      <td>100.0</td>\n",
       "      <td>5</td>\n",
       "      <td>0</td>\n",
       "      <td>3</td>\n",
       "      <td>Москва г</td>\n",
       "      <td>ГОРОД ФЕДЕРАЛЬНОГО ЗНАЧЕНИЯ</td>\n",
       "      <td>10.04.1999</td>\n",
       "      <td>10</td>\n",
       "      <td>4</td>\n",
       "      <td>Нет</td>\n",
       "    </tr>\n",
       "    <tr>\n",
       "      <th>20</th>\n",
       "      <td>МУЖСКОЙ</td>\n",
       "      <td>375</td>\n",
       "      <td>100.0</td>\n",
       "      <td>93.0</td>\n",
       "      <td>5</td>\n",
       "      <td>0</td>\n",
       "      <td>2</td>\n",
       "      <td>Москва г</td>\n",
       "      <td>ГОРОД ФЕДЕРАЛЬНОГО ЗНАЧЕНИЯ</td>\n",
       "      <td>05.08.1999</td>\n",
       "      <td>5</td>\n",
       "      <td>8</td>\n",
       "      <td>Да</td>\n",
       "    </tr>\n",
       "    <tr>\n",
       "      <th>37</th>\n",
       "      <td>МУЖСКОЙ</td>\n",
       "      <td>393</td>\n",
       "      <td>100.0</td>\n",
       "      <td>96.0</td>\n",
       "      <td>0</td>\n",
       "      <td>0</td>\n",
       "      <td>1</td>\n",
       "      <td>Москва г</td>\n",
       "      <td>ГОРОД ФЕДЕРАЛЬНОГО ЗНАЧЕНИЯ</td>\n",
       "      <td>15.02.2000</td>\n",
       "      <td>15</td>\n",
       "      <td>2</td>\n",
       "      <td>Да</td>\n",
       "    </tr>\n",
       "  </tbody>\n",
       "</table>\n",
       "</div>"
      ],
      "text/plain": [
       "        Пол  Сумма.баллов  ЕГЭ...матем.  ЕГЭ...рус.яз.  \\\n",
       "10  ЖЕНСКИЙ           399          96.0          100.0   \n",
       "16  МУЖСКОЙ           388          96.0           98.0   \n",
       "19  ЖЕНСКИЙ           364          94.0          100.0   \n",
       "20  МУЖСКОЙ           375         100.0           93.0   \n",
       "37  МУЖСКОЙ           393         100.0           96.0   \n",
       "\n",
       "    Аттестат.с.отличием.оценка  ГТО.оценка  Сочинение.оценка    Регион  \\\n",
       "10                           5           0                 2  Москва г   \n",
       "16                           0           0                 0  Москва г   \n",
       "19                           5           0                 3  Москва г   \n",
       "20                           5           0                 2  Москва г   \n",
       "37                           0           0                 1  Москва г   \n",
       "\n",
       "              Тип.насел..пункта Дата.рождения  День.рождения  Месяц.рождения  \\\n",
       "10  ГОРОД ФЕДЕРАЛЬНОГО ЗНАЧЕНИЯ    13.11.1999             13              11   \n",
       "16  ГОРОД ФЕДЕРАЛЬНОГО ЗНАЧЕНИЯ    15.02.2000             15               2   \n",
       "19  ГОРОД ФЕДЕРАЛЬНОГО ЗНАЧЕНИЯ    10.04.1999             10               4   \n",
       "20  ГОРОД ФЕДЕРАЛЬНОГО ЗНАЧЕНИЯ    05.08.1999              5               8   \n",
       "37  ГОРОД ФЕДЕРАЛЬНОГО ЗНАЧЕНИЯ    15.02.2000             15               2   \n",
       "\n",
       "   Матем.лучше.рус  \n",
       "10             Нет  \n",
       "16             Нет  \n",
       "19             Нет  \n",
       "20              Да  \n",
       "37              Да  "
      ]
     },
     "execution_count": 8,
     "metadata": {},
     "output_type": "execute_result"
    }
   ],
   "source": [
    "high_scorers = df[df.loc[:, df.columns.str.startswith('ЕГЭ')].mean(axis=1) > 95]\n",
    "high_scorers.head()"
   ]
  },
  {
   "cell_type": "markdown",
   "id": "c1e037b9-cddd-43c7-883d-75e0e6d49719",
   "metadata": {},
   "source": [
    "### 3 Задание"
   ]
  },
  {
   "cell_type": "markdown",
   "id": "713f8500-edc8-44f1-b640-c7baf39e1772",
   "metadata": {},
   "source": [
    "Вывести средние баллы девочек и мальчиков."
   ]
  },
  {
   "cell_type": "code",
   "execution_count": 19,
   "id": "1111c26f-810b-4970-904f-eaddac4cb7a3",
   "metadata": {},
   "outputs": [
    {
     "data": {
      "text/html": [
       "<div>\n",
       "<style scoped>\n",
       "    .dataframe tbody tr th:only-of-type {\n",
       "        vertical-align: middle;\n",
       "    }\n",
       "\n",
       "    .dataframe tbody tr th {\n",
       "        vertical-align: top;\n",
       "    }\n",
       "\n",
       "    .dataframe thead th {\n",
       "        text-align: right;\n",
       "    }\n",
       "</style>\n",
       "<table border=\"1\" class=\"dataframe\">\n",
       "  <thead>\n",
       "    <tr style=\"text-align: right;\">\n",
       "      <th></th>\n",
       "      <th>ЕГЭ...матем.</th>\n",
       "      <th>ЕГЭ...рус.яз.</th>\n",
       "    </tr>\n",
       "    <tr>\n",
       "      <th>Пол</th>\n",
       "      <th></th>\n",
       "      <th></th>\n",
       "    </tr>\n",
       "  </thead>\n",
       "  <tbody>\n",
       "    <tr>\n",
       "      <th>ЖЕНСКИЙ</th>\n",
       "      <td>85.339056</td>\n",
       "      <td>89.371245</td>\n",
       "    </tr>\n",
       "    <tr>\n",
       "      <th>МУЖСКОЙ</th>\n",
       "      <td>85.393906</td>\n",
       "      <td>85.161781</td>\n",
       "    </tr>\n",
       "  </tbody>\n",
       "</table>\n",
       "</div>"
      ],
      "text/plain": [
       "         ЕГЭ...матем.  ЕГЭ...рус.яз.\n",
       "Пол                                 \n",
       "ЖЕНСКИЙ     85.339056      89.371245\n",
       "МУЖСКОЙ     85.393906      85.161781"
      ]
     },
     "execution_count": 19,
     "metadata": {},
     "output_type": "execute_result"
    }
   ],
   "source": [
    "df.groupby('Пол').agg(dict.fromkeys(df.columns[df.columns.str.startswith('ЕГЭ')], 'mean'))"
   ]
  },
  {
   "cell_type": "markdown",
   "id": "9304b993-6c12-4a07-ad69-fd953ebf74f2",
   "metadata": {},
   "source": [
    "Вывести средние баллы, имеющих аттестат с отличием и нет."
   ]
  },
  {
   "cell_type": "code",
   "execution_count": 10,
   "id": "b2b3a3cf-207b-4982-86ec-6f3249bfb38f",
   "metadata": {},
   "outputs": [
    {
     "data": {
      "text/html": [
       "<div>\n",
       "<style scoped>\n",
       "    .dataframe tbody tr th:only-of-type {\n",
       "        vertical-align: middle;\n",
       "    }\n",
       "\n",
       "    .dataframe tbody tr th {\n",
       "        vertical-align: top;\n",
       "    }\n",
       "\n",
       "    .dataframe thead th {\n",
       "        text-align: right;\n",
       "    }\n",
       "</style>\n",
       "<table border=\"1\" class=\"dataframe\">\n",
       "  <thead>\n",
       "    <tr style=\"text-align: right;\">\n",
       "      <th></th>\n",
       "      <th>ЕГЭ...матем.</th>\n",
       "      <th>ЕГЭ...рус.яз.</th>\n",
       "    </tr>\n",
       "    <tr>\n",
       "      <th>Аттестат.с.отличием.оценка</th>\n",
       "      <th></th>\n",
       "      <th></th>\n",
       "    </tr>\n",
       "  </thead>\n",
       "  <tbody>\n",
       "    <tr>\n",
       "      <th>0</th>\n",
       "      <td>84.854265</td>\n",
       "      <td>84.435503</td>\n",
       "    </tr>\n",
       "    <tr>\n",
       "      <th>5</th>\n",
       "      <td>86.188540</td>\n",
       "      <td>89.913284</td>\n",
       "    </tr>\n",
       "  </tbody>\n",
       "</table>\n",
       "</div>"
      ],
      "text/plain": [
       "                            ЕГЭ...матем.  ЕГЭ...рус.яз.\n",
       "Аттестат.с.отличием.оценка                             \n",
       "0                              84.854265      84.435503\n",
       "5                              86.188540      89.913284"
      ]
     },
     "execution_count": 10,
     "metadata": {},
     "output_type": "execute_result"
    }
   ],
   "source": [
    "df.groupby('Аттестат.с.отличием.оценка').agg(dict.fromkeys(df.columns[df.columns.str.startswith('ЕГЭ')], 'mean'))"
   ]
  },
  {
   "cell_type": "markdown",
   "id": "54fa198f-a050-4be4-ae73-2adbc59856d1",
   "metadata": {},
   "source": [
    "А теперь замиксуем."
   ]
  },
  {
   "cell_type": "code",
   "execution_count": 11,
   "id": "a9d697a8-cd94-4b99-a9d2-b6822c91f631",
   "metadata": {},
   "outputs": [
    {
     "data": {
      "text/html": [
       "<div>\n",
       "<style scoped>\n",
       "    .dataframe tbody tr th:only-of-type {\n",
       "        vertical-align: middle;\n",
       "    }\n",
       "\n",
       "    .dataframe tbody tr th {\n",
       "        vertical-align: top;\n",
       "    }\n",
       "\n",
       "    .dataframe thead th {\n",
       "        text-align: right;\n",
       "    }\n",
       "</style>\n",
       "<table border=\"1\" class=\"dataframe\">\n",
       "  <thead>\n",
       "    <tr style=\"text-align: right;\">\n",
       "      <th></th>\n",
       "      <th></th>\n",
       "      <th>ЕГЭ...матем.</th>\n",
       "      <th>ЕГЭ...рус.яз.</th>\n",
       "    </tr>\n",
       "    <tr>\n",
       "      <th>Пол</th>\n",
       "      <th>Аттестат.с.отличием.оценка</th>\n",
       "      <th></th>\n",
       "      <th></th>\n",
       "    </tr>\n",
       "  </thead>\n",
       "  <tbody>\n",
       "    <tr>\n",
       "      <th rowspan=\"2\" valign=\"top\">ЖЕНСКИЙ</th>\n",
       "      <th>0</th>\n",
       "      <td>84.810680</td>\n",
       "      <td>86.883495</td>\n",
       "    </tr>\n",
       "    <tr>\n",
       "      <th>5</th>\n",
       "      <td>85.757692</td>\n",
       "      <td>91.342308</td>\n",
       "    </tr>\n",
       "    <tr>\n",
       "      <th rowspan=\"2\" valign=\"top\">МУЖСКОЙ</th>\n",
       "      <th>0</th>\n",
       "      <td>84.868339</td>\n",
       "      <td>83.646322</td>\n",
       "    </tr>\n",
       "    <tr>\n",
       "      <th>5</th>\n",
       "      <td>86.587189</td>\n",
       "      <td>88.595745</td>\n",
       "    </tr>\n",
       "  </tbody>\n",
       "</table>\n",
       "</div>"
      ],
      "text/plain": [
       "                                    ЕГЭ...матем.  ЕГЭ...рус.яз.\n",
       "Пол     Аттестат.с.отличием.оценка                             \n",
       "ЖЕНСКИЙ 0                              84.810680      86.883495\n",
       "        5                              85.757692      91.342308\n",
       "МУЖСКОЙ 0                              84.868339      83.646322\n",
       "        5                              86.587189      88.595745"
      ]
     },
     "execution_count": 11,
     "metadata": {},
     "output_type": "execute_result"
    }
   ],
   "source": [
    "df.groupby(['Пол', 'Аттестат.с.отличием.оценка']).agg(dict.fromkeys(df.columns[df.columns.str.startswith('ЕГЭ')], 'mean'))"
   ]
  },
  {
   "cell_type": "markdown",
   "id": "e3e0a404-a68d-4353-9a3d-b17a5fcc657c",
   "metadata": {},
   "source": [
    "Определить количество студентов с баллом ЕГЭ по математике, лежащем в заданном диапазоне и вне его."
   ]
  },
  {
   "cell_type": "code",
   "execution_count": 12,
   "id": "4ddf79b6-41d8-4309-9d75-8d1447d3207d",
   "metadata": {},
   "outputs": [
    {
     "data": {
      "text/plain": [
       "ЕГЭ...матем.\n",
       "True     764\n",
       "False    626\n",
       "Name: count, dtype: int64"
      ]
     },
     "execution_count": 12,
     "metadata": {},
     "output_type": "execute_result"
    }
   ],
   "source": [
    "l, r = 80, 90\n",
    "df['ЕГЭ...матем.'].between(l, r).value_counts()"
   ]
  },
  {
   "cell_type": "markdown",
   "id": "19b36601-a28c-4460-832e-4e4e66334699",
   "metadata": {},
   "source": [
    "Создать датасет с количествами студентов, баллы которых лежат в заданных диапазонах."
   ]
  },
  {
   "cell_type": "code",
   "execution_count": 13,
   "id": "496dc90a-ec50-475e-b526-dc23cbf77331",
   "metadata": {},
   "outputs": [
    {
     "data": {
      "text/html": [
       "<div>\n",
       "<style scoped>\n",
       "    .dataframe tbody tr th:only-of-type {\n",
       "        vertical-align: middle;\n",
       "    }\n",
       "\n",
       "    .dataframe tbody tr th {\n",
       "        vertical-align: top;\n",
       "    }\n",
       "\n",
       "    .dataframe thead tr th {\n",
       "        text-align: left;\n",
       "    }\n",
       "\n",
       "    .dataframe thead tr:last-of-type th {\n",
       "        text-align: right;\n",
       "    }\n",
       "</style>\n",
       "<table border=\"1\" class=\"dataframe\">\n",
       "  <thead>\n",
       "    <tr>\n",
       "      <th></th>\n",
       "      <th></th>\n",
       "      <th>cnt</th>\n",
       "      <th colspan=\"2\" halign=\"left\">ЕГЭ...матем.</th>\n",
       "      <th colspan=\"2\" halign=\"left\">ЕГЭ...рус.яз.</th>\n",
       "    </tr>\n",
       "    <tr>\n",
       "      <th></th>\n",
       "      <th></th>\n",
       "      <th>count</th>\n",
       "      <th>mean</th>\n",
       "      <th>median</th>\n",
       "      <th>mean</th>\n",
       "      <th>median</th>\n",
       "    </tr>\n",
       "    <tr>\n",
       "      <th>math_in_interval</th>\n",
       "      <th>rus_in_interval</th>\n",
       "      <th></th>\n",
       "      <th></th>\n",
       "      <th></th>\n",
       "      <th></th>\n",
       "      <th></th>\n",
       "    </tr>\n",
       "  </thead>\n",
       "  <tbody>\n",
       "    <tr>\n",
       "      <th rowspan=\"2\" valign=\"top\">False</th>\n",
       "      <th>False</th>\n",
       "      <td>783</td>\n",
       "      <td>84.95122</td>\n",
       "      <td>86.0</td>\n",
       "      <td>81.158974</td>\n",
       "      <td>83.0</td>\n",
       "    </tr>\n",
       "    <tr>\n",
       "      <th>True</th>\n",
       "      <td>565</td>\n",
       "      <td>87.20922</td>\n",
       "      <td>88.0</td>\n",
       "      <td>94.223009</td>\n",
       "      <td>93.0</td>\n",
       "    </tr>\n",
       "    <tr>\n",
       "      <th rowspan=\"2\" valign=\"top\">True</th>\n",
       "      <th>False</th>\n",
       "      <td>32</td>\n",
       "      <td>68.56250</td>\n",
       "      <td>68.0</td>\n",
       "      <td>80.968750</td>\n",
       "      <td>81.0</td>\n",
       "    </tr>\n",
       "    <tr>\n",
       "      <th>True</th>\n",
       "      <td>10</td>\n",
       "      <td>68.80000</td>\n",
       "      <td>68.0</td>\n",
       "      <td>95.000000</td>\n",
       "      <td>96.0</td>\n",
       "    </tr>\n",
       "  </tbody>\n",
       "</table>\n",
       "</div>"
      ],
      "text/plain": [
       "                                   cnt ЕГЭ...матем.        ЕГЭ...рус.яз.  \\\n",
       "                                 count         mean median          mean   \n",
       "math_in_interval rus_in_interval                                           \n",
       "False            False             783     84.95122   86.0     81.158974   \n",
       "                 True              565     87.20922   88.0     94.223009   \n",
       "True             False              32     68.56250   68.0     80.968750   \n",
       "                 True               10     68.80000   68.0     95.000000   \n",
       "\n",
       "                                         \n",
       "                                 median  \n",
       "math_in_interval rus_in_interval         \n",
       "False            False             83.0  \n",
       "                 True              93.0  \n",
       "True             False             81.0  \n",
       "                 True              96.0  "
      ]
     },
     "execution_count": 13,
     "metadata": {},
     "output_type": "execute_result"
    }
   ],
   "source": [
    "df.assign(cnt=1, \\\n",
    "          math_in_interval=lambda _df: _df['ЕГЭ...матем.'].between(60, 70), \\\n",
    "          rus_in_interval=lambda _df: _df['ЕГЭ...рус.яз.'] >= 90) \\\n",
    "  .groupby(['math_in_interval', 'rus_in_interval']) \\\n",
    "  .agg({'cnt': 'count', \\\n",
    "        'ЕГЭ...матем.': ['mean', 'median'], \\\n",
    "        'ЕГЭ...рус.яз.': ['mean', 'median']})"
   ]
  },
  {
   "cell_type": "code",
   "execution_count": null,
   "id": "3a2489a3-52a8-4609-bfa7-6757e7121db4",
   "metadata": {},
   "outputs": [],
   "source": []
  }
 ],
 "metadata": {
  "kernelspec": {
   "display_name": "Python 3 (ipykernel)",
   "language": "python",
   "name": "python3"
  },
  "language_info": {
   "codemirror_mode": {
    "name": "ipython",
    "version": 3
   },
   "file_extension": ".py",
   "mimetype": "text/x-python",
   "name": "python",
   "nbconvert_exporter": "python",
   "pygments_lexer": "ipython3",
   "version": "3.11.1"
  }
 },
 "nbformat": 4,
 "nbformat_minor": 5
}
